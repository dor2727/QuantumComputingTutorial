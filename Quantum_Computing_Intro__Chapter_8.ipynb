{
 "cells": [
  {
   "cell_type": "code",
   "execution_count": 3,
   "metadata": {},
   "outputs": [
    {
     "name": "stdout",
     "output_type": "stream",
     "text": [
      "Python version: 3.8.1 (tags/v3.8.1:1b293b6006, Jan  6 2020, 11:40:25) \n",
      "[GCC 9.2.1 20191008]\n",
      "qiskit version: 0.14.1\n"
     ]
    }
   ],
   "source": [
    "import sys\n",
    "print(\"Python version:\", sys.version)\n",
    "\n",
    "import numpy as np\n",
    "import matplotlib.pyplot as plt\n",
    "%matplotlib inline\n",
    "# %config InlineBackend.figure_format = 'svg' # Makes the images look nice\n",
    "\n",
    "from qiskit import(\n",
    "  QuantumCircuit,\n",
    "  QuantumRegister, ClassicalRegister,\n",
    "  execute,\n",
    "  Aer)\n",
    "from qiskit.visualization import plot_histogram\n",
    "from qiskit import __version__ as __qiskit_version__\n",
    "print(\"qiskit version:\", __qiskit_version__)"
   ]
  },
  {
   "cell_type": "code",
   "execution_count": 6,
   "metadata": {},
   "outputs": [
    {
     "data": {
      "image/png": "[encoded data removed]",
      "text/plain": [
       "<Figure size 113.176x84.28 with 1 Axes>"
      ]
     },
     "execution_count": 6,
     "metadata": {},
     "output_type": "execute_result"
    }
   ],
   "source": [
    "# draw the left side of the above equation\n",
    "c = QuantumCircuit(1)\n",
    "\n",
    "# c.x(0)\n",
    "# c.x(0)\n",
    "\n",
    "c.draw(output=\"mpl\")"
   ]
  },
  {
   "cell_type": "code",
   "execution_count": 9,
   "metadata": {},
   "outputs": [
    {
     "data": {
      "image/png": "[encoded data removed]",
      "text/plain": [
       "<Figure size 178.192x144.48 with 1 Axes>"
      ]
     },
     "execution_count": 9,
     "metadata": {},
     "output_type": "execute_result"
    }
   ],
   "source": [
    "# draw the left side of the above equation\n",
    "c = QuantumCircuit(2)\n",
    "\n",
    "# c.x(0)\n",
    "# c.cx(0,1)\n",
    "# c.x(0)\n",
    "\n",
    "c.draw(output=\"mpl\")"
   ]
  },
  {
   "cell_type": "code",
   "execution_count": 11,
   "metadata": {},
   "outputs": [
    {
     "data": {
      "image/png": "[encoded data removed]",
      "text/plain": [
       "<Figure size 293.776x84.28 with 1 Axes>"
      ]
     },
     "execution_count": 11,
     "metadata": {},
     "output_type": "execute_result"
    }
   ],
   "source": [
    "# X = HZH\n",
    "c = QuantumCircuit(1)\n",
    "\n",
    "# c.x(0)\n",
    "c.h(0)\n",
    "c.z(0)\n",
    "c.h(0)\n",
    "\n",
    "c.draw(output=\"mpl\")"
   ]
  },
  {
   "cell_type": "code",
   "execution_count": 15,
   "metadata": {},
   "outputs": [
    {
     "data": {
      "image/png": "[encoded data removed]",
      "text/plain": [
       "<Figure size 238.392x144.48 with 1 Axes>"
      ]
     },
     "execution_count": 15,
     "metadata": {},
     "output_type": "execute_result"
    }
   ],
   "source": [
    "# C_X = H C_Z H\n",
    "c = QuantumCircuit(2)\n",
    "\n",
    "c.cx(0,1)\n",
    "# c.h(1)\n",
    "# c.cz(0,1)\n",
    "# c.h(1)\n",
    "\n",
    "c.draw(output=\"mpl\")"
   ]
  },
  {
   "cell_type": "code",
   "execution_count": 4,
   "metadata": {},
   "outputs": [
    {
     "data": {
      "image/png": "[encoded data removed]",
      "text/plain": [
       "<Figure size 238.392x144.48 with 1 Axes>"
      ]
     },
     "execution_count": 4,
     "metadata": {},
     "output_type": "execute_result"
    }
   ],
   "source": [
    "# C_X_1,0 --> C_X_0,1\n",
    "c = QuantumCircuit(2)\n",
    "\n",
    "# first circuit\n",
    "#c.h(0)\n",
    "#c.h(1)\n",
    "#c.cx(0,1)\n",
    "#c.h(1)\n",
    "#c.h(0)\n",
    "\n",
    "# second circuit\n",
    "#c.h(0)\n",
    "c.cz(0,1)\n",
    "#c.h(0)\n",
    "\n",
    "# third circuit\n",
    "# c.cx(1,0)\n",
    "\n",
    "c.draw(output=\"mpl\")"
   ]
  },
  {
   "cell_type": "code",
   "execution_count": null,
   "metadata": {},
   "outputs": [],
   "source": []
  }
 ],
 "metadata": {
  "kernelspec": {
   "display_name": "Python 3",
   "language": "python",
   "name": "python3"
  },
  "language_info": {
   "codemirror_mode": {
    "name": "ipython",
    "version": 3
   },
   "file_extension": ".py",
   "mimetype": "text/x-python",
   "name": "python",
   "nbconvert_exporter": "python",
   "pygments_lexer": "ipython3",
   "version": "3.8.1"
  }
 },
 "nbformat": 4,
 "nbformat_minor": 4
}
