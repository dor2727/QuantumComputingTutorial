{
 "cells": [
  {
   "cell_type": "code",
   "execution_count": 4,
   "metadata": {},
   "outputs": [
    {
     "name": "stdout",
     "output_type": "stream",
     "text": [
      "3.7.5 (v3.7.5:5c02a39a0b, Dec 27 2019, 11:41:00) \n",
      "[GCC 6.3.0 20170516]\n"
     ]
    }
   ],
   "source": [
    "import sys\n",
    "print(sys.version)\n",
    "\n",
    "import numpy as np\n",
    "import matplotlib.pyplot as plt\n",
    "%matplotlib inline\n",
    "\n",
    "from qiskit import(\n",
    "  QuantumCircuit,\n",
    "  execute,\n",
    "  Aer)\n",
    "from qiskit.visualization import plot_histogram"
   ]
  },
  {
   "cell_type": "code",
   "execution_count": 5,
   "metadata": {},
   "outputs": [],
   "source": [
    "# single qbit states\n",
    "zero = np.array([1,0])\n",
    "one = np.array([0,1])\n",
    "\n",
    "# single qbit gates\n",
    "I = np.array([[1,0],[0,1]])\n",
    "\n",
    "X = np.array([[0,1],[1,0]])\n",
    "Y = np.array([[0,1j],[-1j,0]])\n",
    "Z = np.array([[1,0],[0,-1]])\n",
    "\n",
    "H = np.array([[1,1],[1,-1]]) / np.sqrt(2)\n",
    "\n",
    "# 2 qbit states\n",
    "# 2 stands for 2 bits\n",
    "zero2  = np.outer(zero, zero).reshape(4)\n",
    "one2   = np.outer(zero, one ).reshape(4)\n",
    "two2   = np.outer(one , zero).reshape(4)\n",
    "three2 = np.outer(one , one ).reshape(4)\n",
    "\n",
    "# 2 qbits gates\n",
    "C = np.array([\n",
    "\t[1,0,0,0],\n",
    "\t[0,1,0,0],\n",
    "\t[0,0,0,1],\n",
    "\t[0,0,1,0],\n",
    "])\n",
    "\n",
    "H2 = np.array([\n",
    "\t[1, 1, 1, 1],\n",
    "\t[1,-1, 1,-1],\n",
    "\t[1, 1,-1,-1],\n",
    "\t[1,-1,-1, 1],\n",
    "]) / 2\n"
   ]
  },
  {
   "cell_type": "code",
   "execution_count": 6,
   "metadata": {},
   "outputs": [
    {
     "data": {
      "text/plain": [
       "array([0.70710678, 0.        , 0.        , 0.70710678])"
      ]
     },
     "execution_count": 6,
     "metadata": {},
     "output_type": "execute_result"
    }
   ],
   "source": [
    "# example #1: creation of an entangled state (phi_plus)\n",
    "\n",
    "# initialize 2 qbits\n",
    "q0 = q1 = zero\n",
    "# apply H on q1 (control bit)\n",
    "q1 = H.dot(q1)\n",
    "# create a variable of the 2-bit state\n",
    "q = np.outer(q1, q0).reshape(4)\n",
    "# apply C\n",
    "C.dot(q)"
   ]
  },
  {
   "cell_type": "code",
   "execution_count": 7,
   "metadata": {},
   "outputs": [
    {
     "data": {
      "image/png": "[encoded data removed]",
      "text/plain": [
       "<Figure size 276.92x144.48 with 1 Axes>"
      ]
     },
     "execution_count": 7,
     "metadata": {},
     "output_type": "execute_result"
    }
   ],
   "source": [
    "# example #2: C H circuit\n",
    "\n",
    "amount_of_qbits = 2\n",
    "\n",
    "# build the main circuit\n",
    "circuit = QuantumCircuit(amount_of_qbits)\n",
    "\n",
    "circuit.h(1)\n",
    "circuit.cnot(1,0)\n",
    "\n",
    "# Draw the circuit\n",
    "circuit.draw(output=\"mpl\")\n"
   ]
  },
  {
   "cell_type": "code",
   "execution_count": 8,
   "metadata": {},
   "outputs": [
    {
     "name": "stdout",
     "output_type": "stream",
     "text": [
      "\n",
      "Total count for 00 and 11 are: {'11': 489, '00': 511}\n"
     ]
    },
    {
     "data": {
      "image/png": "[encoded data removed]",
      "text/plain": [
       "<Figure size 504x360 with 1 Axes>"
      ]
     },
     "execution_count": 8,
     "metadata": {},
     "output_type": "execute_result"
    }
   ],
   "source": [
    "# example #3: C H circuit simulation\n",
    "\n",
    "amount_of_qbits = 2\n",
    "amount_of_cbits = 2\n",
    "\n",
    "# build the main circuit\n",
    "circuit = QuantumCircuit(amount_of_qbits, amount_of_cbits)\n",
    "\n",
    "circuit.h(1)\n",
    "circuit.cnot(1,0)\n",
    "circuit.measure([0,1], [0,1])\n",
    "\n",
    "# Draw the circuit\n",
    "# circuit.draw(output=\"mpl\")\n",
    "\n",
    "simulator = Aer.get_backend('qasm_simulator')\n",
    "job = execute(circuit, simulator, shots=1000)\n",
    "result = job.result()\n",
    "\n",
    "counts = result.get_counts(circuit)\n",
    "print(\"\\nTotal count for 00 and 11 are:\",counts)\n",
    "\n",
    "plot_histogram(counts)"
   ]
  },
  {
   "cell_type": "code",
   "execution_count": 9,
   "metadata": {},
   "outputs": [],
   "source": [
    "def create_entangled_state(q0=0, q1=0):\n",
    "    \"q0 and q1 takes either 0 or 1 as their initial value\"\n",
    "    # create a circuit\n",
    "    amount_of_qbits = 2\n",
    "\n",
    "    circuit = QuantumCircuit(amount_of_qbits)\n",
    "    \n",
    "    # set the initial state according to the parameters:\n",
    "    if q0:\n",
    "        circuit.x(0)\n",
    "    if q1:\n",
    "        circuit.x(1)\n",
    "    \n",
    "    # entangle them!\n",
    "    circuit.h(1)\n",
    "    circuit.cnot(1,0)\n",
    "\n",
    "    # extract the result\n",
    "    simulator = Aer.get_backend('statevector_simulator')\n",
    "    job = execute(circuit, simulator)\n",
    "    result = job.result()\n",
    "    outputstate = result.get_statevector(circuit, decimals=3)\n",
    "    \n",
    "    return outputstate\n",
    "\n",
    "# ( |00> + |11> ) / sqrt(2)\n",
    "Phi_plus  = create_entangled_state(0,0)\n",
    "# ( |00> - |11> ) / sqrt(2)\n",
    "Phi_minus = create_entangled_state(0,1)\n",
    "# ( |01> + |10> ) / sqrt(2)\n",
    "Psi_plus  = create_entangled_state(1,0)\n",
    "# ( |01> - |10> ) / sqrt(2)\n",
    "Psi_minus = create_entangled_state(1,1)"
   ]
  },
  {
   "cell_type": "code",
   "execution_count": 10,
   "metadata": {},
   "outputs": [
    {
     "data": {
      "text/plain": [
       "array([ 0.707-0.j,  0.   +0.j,  0.   +0.j, -0.707+0.j])"
      ]
     },
     "execution_count": 10,
     "metadata": {},
     "output_type": "execute_result"
    }
   ],
   "source": [
    "Phi_minus"
   ]
  },
  {
   "cell_type": "code",
   "execution_count": null,
   "metadata": {},
   "outputs": [],
   "source": []
  }
 ],
 "metadata": {
  "kernelspec": {
   "display_name": "Python 3",
   "language": "python",
   "name": "python3"
  },
  "language_info": {
   "codemirror_mode": {
    "name": "ipython",
    "version": 3
   },
   "file_extension": ".py",
   "mimetype": "text/x-python",
   "name": "python",
   "nbconvert_exporter": "python",
   "pygments_lexer": "ipython3",
   "version": "3.7.5"
  }
 },
 "nbformat": 4,
 "nbformat_minor": 2
}
