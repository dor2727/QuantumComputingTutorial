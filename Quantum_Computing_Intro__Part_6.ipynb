{
 "cells": [
  {
   "cell_type": "code",
   "execution_count": 58,
   "metadata": {},
   "outputs": [
    {
     "name": "stdout",
     "output_type": "stream",
     "text": [
      "3.8.1 (tags/v3.8.1:1b293b6006, Jan  6 2020, 11:40:25) \n",
      "[GCC 9.2.1 20191008]\n"
     ]
    }
   ],
   "source": [
    "import sys\n",
    "print(sys.version)\n",
    "\n",
    "import numpy as np\n",
    "import matplotlib.pyplot as plt\n",
    "%matplotlib inline\n",
    "# %config InlineBackend.figure_format = 'svg' # Makes the images look nice\n",
    "\n",
    "from qiskit import(\n",
    "  QuantumCircuit,\n",
    "  QuantumRegister, ClassicalRegister,\n",
    "  execute,\n",
    "  Aer)\n",
    "from qiskit.visualization import plot_histogram"
   ]
  },
  {
   "cell_type": "code",
   "execution_count": 6,
   "metadata": {},
   "outputs": [
    {
     "name": "stdout",
     "output_type": "stream",
     "text": [
      "[[1. 0. 0. 0.]\n",
      " [0. 0. 0. 1.]\n",
      " [0. 0. 1. 0.]\n",
      " [0. 1. 0. 0.]]\n",
      "[[1 0 0 0]\n",
      " [0 0 0 1]\n",
      " [0 0 1 0]\n",
      " [0 1 0 0]]\n"
     ]
    }
   ],
   "source": [
    "# Example #1: H^(2) * C_10 * H^(2) == C_01\n",
    "\n",
    "H_2D = np.array([[1,1,1,1],[1,-1,1,-1],[1,1,-1,-1],[1,-1,-1,1]]) / 2\n",
    "C_10 = np.array([[1,0,0,0],[0,1,0,0],[0,0,0,1],[0,0,1,0]])\n",
    "C_01 = np.array([[1,0,0,0],[0,0,0,1],[0,0,1,0],[0,1,0,0]])\n",
    "\n",
    "print(H_2D.dot(C_10).dot(H_2D))\n",
    "print(C_01)"
   ]
  },
  {
   "cell_type": "code",
   "execution_count": 7,
   "metadata": {},
   "outputs": [
    {
     "data": {
      "image/png": "[encoded data removed]",
      "text/plain": [
       "<Figure size 358.792x144.48 with 1 Axes>"
      ]
     },
     "execution_count": 7,
     "metadata": {},
     "output_type": "execute_result"
    }
   ],
   "source": [
    "# draw the left side of the above equation\n",
    "c = QuantumCircuit(2)\n",
    "c.h(0)\n",
    "c.h(1)\n",
    "c.cx(0,1)\n",
    "c.h(0)\n",
    "c.h(1)\n",
    "c.draw(output=\"mpl\")"
   ]
  },
  {
   "cell_type": "code",
   "execution_count": 8,
   "metadata": {},
   "outputs": [
    {
     "data": {
      "image/png": "[encoded data removed]",
      "text/plain": [
       "<Figure size 238.392x144.48 with 1 Axes>"
      ]
     },
     "execution_count": 8,
     "metadata": {},
     "output_type": "execute_result"
    }
   ],
   "source": [
    "# draw the right side of the above equation\n",
    "c = QuantumCircuit(2)\n",
    "c.cx(1,0)\n",
    "c.draw(output=\"mpl\")"
   ]
  },
  {
   "cell_type": "code",
   "execution_count": 19,
   "metadata": {},
   "outputs": [
    {
     "data": {
      "image/png": "[encoded data removed]",
      "text/plain": [
       "<Figure size 533.372x144.48 with 1 Axes>"
      ]
     },
     "execution_count": 19,
     "metadata": {},
     "output_type": "execute_result"
    }
   ],
   "source": [
    "# draw the hadamard wrapping of the oracle\n",
    "\n",
    "# initialize quantum registers\n",
    "i = QuantumRegister(1, \"input\")\n",
    "o = QuantumRegister(1, \"output\")\n",
    "# initialize quantum circuit\n",
    "c = QuantumCircuit(i, o)\n",
    "# initialize states\n",
    "c.x(o)\n",
    "c.h(i)\n",
    "c.h(o)\n",
    "# placeholder for the oracle\n",
    "c.barrier()\n",
    "c.barrier()\n",
    "# hadamards\n",
    "c.h(i)\n",
    "c.h(o)\n",
    "# draw\n",
    "c.draw(output=\"mpl\")"
   ]
  },
  {
   "cell_type": "code",
   "execution_count": 66,
   "metadata": {},
   "outputs": [],
   "source": [
    "# a helper class for defining quantum circuits\n",
    "\n",
    "class Gate(object):\n",
    "    amount_of_qbits = 3\n",
    "    amount_of_cbits = 1\n",
    "    display_gate = False\n",
    "    \n",
    "    def draw(self, output=\"mpl\"):\n",
    "        # if the circuit is not initialized\n",
    "        if getattr(self, \"circuit\", None) is None:\n",
    "            # then initialize it\n",
    "            self.execute()\n",
    "\n",
    "        return self.circuit.draw(output=output)\n",
    "    \n",
    "    def prepare_initial_state(self, initial_state):\n",
    "        # the initial state of a quantum register is |0>\n",
    "        # thus, to get the |1> state, a X gate is applied\n",
    "        for i in range(len(initial_state)):\n",
    "            if initial_state[i] == '1':\n",
    "                self.circuit.x(i)\n",
    "    \n",
    "    def logic(self):\n",
    "        raise NotImplementedError()\n",
    "    # in a basic case, self.logic is enough\n",
    "    # in the BernsteinVazirani, for example, it is nice to split it into several functions\n",
    "    def pre_logic(self):\n",
    "        pass\n",
    "    def post_logic(self):\n",
    "        pass\n",
    "    def measure(self):\n",
    "        pass\n",
    "\n",
    "\n",
    "    # helper function\n",
    "    def get_output_state(self):\n",
    "        simulator = Aer.get_backend('statevector_simulator')\n",
    "        job = execute(self.circuit, simulator)\n",
    "        result = job.result()\n",
    "        outputstate = result.get_statevector(self.circuit, decimals=3)    \n",
    "\n",
    "        return outputstate\n",
    "\n",
    "    # helper function\n",
    "    @staticmethod\n",
    "    def outputstate_to_bin(outputstate):\n",
    "        # get amount of bits\n",
    "        l = np.log2(len(outputstate))\n",
    "        # find every index where there is a non-zero probability\n",
    "        #indexes = np.where(res != 0)[0]\n",
    "        indexes = np.where(outputstate)[0]\n",
    "        # convert it to bin\n",
    "        s = [bin(i)[2:] for i in indexes]\n",
    "        # pad with zeros\n",
    "        s = [\n",
    "            '0'*int(l-len(i)) + i\n",
    "            for i in s\n",
    "        ]\n",
    "        # move lowest bit to the right\n",
    "        s = [i[::-1] for i in s]\n",
    "        # return all the results\n",
    "        return ' & '.join(s)\n",
    "\n",
    "    def initialize_circuit(self):\n",
    "        self.circuit = QuantumCircuit(self.amount_of_qbits, self.amount_of_cbits)\n",
    "        \n",
    "    def execute(self, state=\"0\", raw=False):\n",
    "        self.initialize_circuit()\n",
    "        self.prepare_initial_state(state)\n",
    "        \n",
    "        self.pre_logic()\n",
    "        self.logic()\n",
    "        self.post_logic()\n",
    "        self.measure()\n",
    "        \n",
    "        if self.display_gate:\n",
    "            self.print()\n",
    "        \n",
    "        outputstate = self.get_output_state()\n",
    "        if raw:\n",
    "            return outputstate\n",
    "        else:\n",
    "            return self.outputstate_to_bin( outputstate )\n",
    "\n",
    "# quantum implementation of classical gates\n",
    "class AND(Gate):\n",
    "    def logic(self):\n",
    "        self.circuit.cswap(0,1,2)\n",
    "        self.circuit.cnot(2,1)\n",
    "        self.circuit.measure(2,0)\n",
    "\n",
    "class AND2(Gate):\n",
    "    def logic(self):\n",
    "        self.circuit.ccx(0,1,2)\n",
    "        self.circuit.measure(2,0)\n",
    "\n",
    "class XOR(Gate):\n",
    "    def logic(self):\n",
    "        self.circuit.cnot(0,2)\n",
    "        self.circuit.cnot(1,2)\n",
    "        self.circuit.measure(2,0)\n",
    "\n",
    "class XOR2(Gate):\n",
    "    amount_of_qbits = 2\n",
    "    def logic(self):\n",
    "        self.circuit.cnot(0,1)\n",
    "        self.circuit.measure(1,0)\n",
    "        self.circuit.cnot(0,1)\n",
    "\n",
    "class OR(Gate):\n",
    "    def logic(self):\n",
    "        self.circuit.x(0)\n",
    "        self.circuit.x(1)\n",
    "        self.circuit.ccx(0,1,2)\n",
    "        self.circuit.x(2)\n",
    "        # restore input bits\n",
    "        self.circuit.x(0)\n",
    "        self.circuit.x(1)\n",
    "        \n",
    "        self.circuit.measure(2,0)\n",
    "\n",
    "\n",
    "class BernsteinVazirani(Gate):\n",
    "    # key[i] is the i bit. => lowest bit on the left\n",
    "    key = '1010'\n",
    "\n",
    "    @property\n",
    "    def key_size(self):\n",
    "        return len(self.key)\n",
    "    \n",
    "    @property\n",
    "    def amount_of_qbits(self):\n",
    "        # n for input, 1 for output --> n+1\n",
    "        return self.key_size + 1\n",
    "\n",
    "    def initialize_circuit(self):\n",
    "        # qr/cr stands for quantum/classical register\n",
    "        self.qr  = QuantumRegister(self.key_size, 'x') # x for the input bits\n",
    "        self.out = QuantumRegister(1, 'output')\n",
    "        self.cr = ClassicalRegister(self.amount_of_cbits, 'c')\n",
    "        \n",
    "        self.circuit = QuantumCircuit(self.qr, self.out, self.cr)\n",
    "\n",
    "    def set_oracle(self):\n",
    "        # apply BernsteinVazirani black box\n",
    "        for i in range(self.key_size):\n",
    "            if self.key[i] == '1':\n",
    "                self.circuit.cx(self.qr[i], self.out)\n",
    "        \n",
    "    def logic(self):\n",
    "        self.set_oracle()\n",
    "\n",
    "    def post_logic(self):\n",
    "        self.circuit.barrier()\n",
    "\n",
    "    def measure(self):\n",
    "        self.circuit.measure(self.key_size,0)\n",
    "\n",
    "        \n",
    "class BernsteinVazirani_Hadamard(BernsteinVazirani):\n",
    "    # key[i] is the i bit. => lowest bit on the left\n",
    "    key = '1101'\n",
    "\n",
    "    @property\n",
    "    def key_size(self):\n",
    "        return len(self.key)\n",
    "    \n",
    "    @property\n",
    "    def amount_of_cbits(self):\n",
    "        return self.key_size\n",
    "    @property\n",
    "    def amount_of_qbits(self):\n",
    "        return self.key_size + 1\n",
    "\n",
    "\n",
    "    def pre_logic(self):\n",
    "        # initialize the ancilla to |->\n",
    "        self.circuit.x(self.out)\n",
    "        self.circuit.h(self.out)\n",
    "        # initialize the input to |+>\n",
    "        self.circuit.h(self.qr)\n",
    "        \n",
    "        self.circuit.barrier()\n",
    "\n",
    "    def logic(self):\n",
    "        self.set_oracle()\n",
    "\n",
    "    def post_logic(self):\n",
    "        self.circuit.barrier()\n",
    "        \n",
    "        # revert the hadamard\n",
    "        self.circuit.h(self.qr)\n",
    "\n",
    "    def measure(self):\n",
    "        self.circuit.measure(self.qr, self.cr)\n"
   ]
  },
  {
   "cell_type": "code",
   "execution_count": 70,
   "metadata": {},
   "outputs": [
    {
     "data": {
      "image/png": "[encoded data removed]",
      "text/plain": [
       "<Figure size 593.572x565.88 with 1 Axes>"
      ]
     },
     "execution_count": 70,
     "metadata": {},
     "output_type": "execute_result"
    }
   ],
   "source": [
    "# draw BernsteinVazirani gates with different keys\n",
    "\n",
    "b = BernsteinVazirani()\n",
    "b.key = \"11\"\n",
    "b.key = \"1010101\"\n",
    "b.execute('00')\n",
    "b.draw()"
   ]
  },
  {
   "cell_type": "code",
   "execution_count": 54,
   "metadata": {},
   "outputs": [
    {
     "name": "stdout",
     "output_type": "stream",
     "text": [
      "combinations :    ['0000', '0001', '0010', '0011', '0100', '0101', '0110', '0111', '1000', '1001', '1010', '1011', '1100', '1101', '1110', '1111']\n",
      "0000 : 0000 0\n",
      "0001 : 0001 0\n",
      "0010 : 0010 1\n",
      "0011 : 0011 1\n",
      "0100 : 0100 0\n",
      "0101 : 0101 0\n",
      "0110 : 0110 1\n",
      "0111 : 0111 1\n",
      "1000 : 1000 1\n",
      "1001 : 1001 1\n",
      "1010 : 1010 0\n",
      "1011 : 1011 0\n",
      "1100 : 1100 1\n",
      "1101 : 1101 1\n",
      "1110 : 1110 0\n",
      "1111 : 1111 0\n"
     ]
    }
   ],
   "source": [
    "# test BernsteinVazirani gates by bruteforcing every possible input\n",
    "\n",
    "b = BernsteinVazirani()\n",
    "key_size = len(b.key)\n",
    "combinations = [bin(i)[2:] for i in range(2**key_size)]\n",
    "combinations = ['0'*(key_size-len(i)) + i for i in combinations]\n",
    "print(\"combinations :   \", combinations)\n",
    "\n",
    "\n",
    "for i in combinations:\n",
    "    res = b.execute(i)\n",
    "    print(f\"{i} : {res[:-1]} {res[-1]}\")"
   ]
  },
  {
   "cell_type": "code",
   "execution_count": 55,
   "metadata": {},
   "outputs": [
    {
     "name": "stdout",
     "output_type": "stream",
     "text": [
      "11010 & 11011\n"
     ]
    },
    {
     "data": {
      "image/png": "[encoded data removed]",
      "text/plain": [
       "<Figure size 954.772x385.28 with 1 Axes>"
      ]
     },
     "execution_count": 55,
     "metadata": {},
     "output_type": "execute_result"
    }
   ],
   "source": [
    "# draw BernsteinVazirani gates, with hadamard wrapping, with different keys\n",
    "\n",
    "b2 = BernsteinVazirani_Hadamard()\n",
    "res = b2.execute('0000')\n",
    "print(res)\n",
    "b2.draw()"
   ]
  },
  {
   "cell_type": "code",
   "execution_count": null,
   "metadata": {},
   "outputs": [],
   "source": []
  }
 ],
 "metadata": {
  "kernelspec": {
   "display_name": "Python 3",
   "language": "python",
   "name": "python3"
  },
  "language_info": {
   "codemirror_mode": {
    "name": "ipython",
    "version": 3
   },
   "file_extension": ".py",
   "mimetype": "text/x-python",
   "name": "python",
   "nbconvert_exporter": "python",
   "pygments_lexer": "ipython3",
   "version": "3.8.1"
  }
 },
 "nbformat": 4,
 "nbformat_minor": 2
}
