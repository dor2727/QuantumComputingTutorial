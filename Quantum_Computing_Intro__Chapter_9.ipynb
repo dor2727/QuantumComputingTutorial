{
 "cells": [
  {
   "cell_type": "code",
   "execution_count": 1,
   "metadata": {},
   "outputs": [
    {
     "name": "stdout",
     "output_type": "stream",
     "text": [
      "3.8.1 (tags/v3.8.1:1b293b6006, Jan  6 2020, 11:40:25) \n",
      "[GCC 9.2.1 20191008]\n"
     ]
    }
   ],
   "source": [
    "import sys\n",
    "print(sys.version)\n",
    "\n",
    "import numpy as np\n",
    "import matplotlib.pyplot as plt\n",
    "%matplotlib inline\n",
    "from IPython.display import display\n",
    "\n",
    "from qiskit import(\n",
    "  QuantumCircuit,\n",
    "  execute,\n",
    "  Aer)\n",
    "from qiskit.visualization import plot_histogram"
   ]
  },
  {
   "cell_type": "code",
   "execution_count": 29,
   "metadata": {},
   "outputs": [
    {
     "name": "stdout",
     "output_type": "stream",
     "text": [
      "[0.+0.j 0.+0.j 0.+0.j 1.-0.j]\n"
     ]
    },
    {
     "data": {
      "image/png": "[encoded data removed]",
      "text/plain": [
       "<Figure size 780.192x204.68 with 1 Axes>"
      ]
     },
     "execution_count": 29,
     "metadata": {},
     "output_type": "execute_result"
    }
   ],
   "source": [
    "# Superdense Coding Circuit\n",
    "\n",
    "amount_of_qbits = 2\n",
    "amount_of_cbits = 2\n",
    "\n",
    "INFORMATION = 3 # a number betwee 0 and 3, inclusive\n",
    "\n",
    "# build the main circuit\n",
    "circuit = QuantumCircuit(amount_of_qbits, amount_of_cbits)\n",
    "\n",
    "# initialization - create a bell pair\n",
    "circuit.h(1)\n",
    "circuit.cnot(1,0)\n",
    "\n",
    "circuit.barrier()\n",
    "\n",
    "# encode information\n",
    "## check LSB\n",
    "if INFORMATION % 2:\n",
    "    circuit.x(1)\n",
    "## check higher bit\n",
    "if INFORMATION >> 1:\n",
    "    circuit.z(1)\n",
    "\n",
    "circuit.barrier()\n",
    "\n",
    "# decode information : un-entangle\n",
    "circuit.cnot(1,0)\n",
    "circuit.h(1)\n",
    "a = circuit.measure([0,1], [0,1])\n",
    "\n",
    "simulator = Aer.get_backend('statevector_simulator')\n",
    "job = execute(circuit, simulator)\n",
    "result = job.result()\n",
    "outputstate = result.get_statevector(circuit, decimals=3)\n",
    "print(outputstate)\n",
    "\n",
    "# Draw the circuit\n",
    "circuit.draw(output=\"mpl\")\n"
   ]
  },
  {
   "cell_type": "code",
   "execution_count": null,
   "metadata": {},
   "outputs": [],
   "source": []
  }
 ],
 "metadata": {
  "kernelspec": {
   "display_name": "Python 3",
   "language": "python",
   "name": "python3"
  },
  "language_info": {
   "codemirror_mode": {
    "name": "ipython",
    "version": 3
   },
   "file_extension": ".py",
   "mimetype": "text/x-python",
   "name": "python",
   "nbconvert_exporter": "python",
   "pygments_lexer": "ipython3",
   "version": "3.8.1"
  }
 },
 "nbformat": 4,
 "nbformat_minor": 4
}
