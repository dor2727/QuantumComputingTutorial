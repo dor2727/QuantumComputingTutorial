{
 "cells": [
  {
   "cell_type": "code",
   "execution_count": 1,
   "metadata": {},
   "outputs": [
    {
     "name": "stdout",
     "output_type": "stream",
     "text": [
      "3.7.5 (v3.7.5:5c02a39a0b, Dec 27 2019, 11:41:00) \n",
      "[GCC 6.3.0 20170516]\n"
     ]
    }
   ],
   "source": [
    "import sys\n",
    "print(sys.version)\n",
    "\n",
    "import numpy as np"
   ]
  },
  {
   "cell_type": "code",
   "execution_count": 8,
   "metadata": {},
   "outputs": [],
   "source": [
    "# define the \"and\" matrix\n",
    "# it is named \"andd\" since \"and\" is a python operator\n",
    "andd = np.array([ \n",
    "  [1,0,0,0,0,0,0,0], \n",
    "  [0,1,0,0,0,0,0,0], \n",
    "  [0,0,1,0,0,0,0,0], \n",
    "  [0,0,0,1,0,0,0,0], \n",
    "  [0,0,0,0,1,0,0,0], \n",
    "  [0,0,0,0,0,1,0,0], \n",
    "  [0,0,0,0,0,0,0,1], \n",
    "  [0,0,0,0,0,0,1,0], \n",
    "])\n",
    "\n",
    "\n",
    "#\n",
    "# util functions\n",
    "#\n",
    "\n",
    "# a function which gets a number between 0 and 7 (inclusive) and\n",
    "# returns a vector representing its value\n",
    "def num_to_vec(x):\n",
    "    res = np.array([0]*8)\n",
    "    res[x]=1\n",
    "    return res\n",
    "vec = num_to_vec\n",
    "# a functions which gets a 1 by 8 matrix, and returns its value\n",
    "# i.e. the opposite of num_to_vec\n",
    "def vec_to_num(v): \n",
    "    for index in range(0,8): \n",
    "        if v[index]==1: \n",
    "            return index\n",
    "num = vec_to_num"
   ]
  },
  {
   "cell_type": "code",
   "execution_count": 23,
   "metadata": {},
   "outputs": [
    {
     "name": "stdout",
     "output_type": "stream",
     "text": [
      "0b111\n",
      "0b110\n",
      "0b100\n"
     ]
    }
   ],
   "source": [
    "# test the code\n",
    "vec_6 = andd.dot(vec(0b110)) # 0b110 = 6\n",
    "# result: matrix([[0, 0, 0, 0, 0, 0, 0, 1]])\n",
    "num_6 = bin(num(vec_6))\n",
    "print(num_6)\n",
    "# result: '0b111'\n",
    "# the last bit flipped! because the first 2 bits, which are the\n",
    "# input bits, are set to 1.\n",
    "\n",
    "vec_7 = andd.dot(vec(0b111)) # 0b111 = 7\n",
    "# result: matrix([[0, 0, 0, 0, 0, 0, 1, 0]])\n",
    "num_7 = bin(num(vec_7))\n",
    "print(num_7)\n",
    "# result: '0b110'\n",
    "# again, the output bit flipped\n",
    "\n",
    "vec_4 = andd.dot(vec(0b100))\n",
    "# result: matrix([[0, 0, 0, 0, 1, 0, 0, 0]])\n",
    "num_4 = bin(num(vec_4))\n",
    "print(num_4)\n",
    "# result: '0b100'\n",
    "# this time the output bit did not flip, since the input bits are 1 and 0.\n"
   ]
  },
  {
   "cell_type": "code",
   "execution_count": 26,
   "metadata": {},
   "outputs": [],
   "source": [
    "orr = np.array([ \n",
    "    [1,0,0,0,0,0,0,0], # 000 \n",
    "    [0,1,0,0,0,0,0,0], # 001 \n",
    "    [0,0,0,1,0,0,0,0], # 010 \n",
    "    [0,0,1,0,0,0,0,0], # 011 \n",
    "    [0,0,0,0,0,1,0,0], # 100 \n",
    "    [0,0,0,0,1,0,0,0], # 101 \n",
    "    [0,0,0,0,0,0,0,1], # 110 \n",
    "    [0,0,0,0,0,0,1,0], # 111 \n",
    "]) \n",
    "\n",
    "# both \"or\" and \"and\" are used by python, so i duplicated the last letter. there is no need for that for \"xor\"\n",
    "xor = np.array([ \n",
    "    [1,0,0,0,0,0,0,0], # 000 \n",
    "    [0,1,0,0,0,0,0,0], # 001 \n",
    "    [0,0,0,1,0,0,0,0], # 010 \n",
    "    [0,0,1,0,0,0,0,0], # 011 \n",
    "    [0,0,0,0,0,1,0,0], # 100 \n",
    "    [0,0,0,0,1,0,0,0], # 101 \n",
    "    [0,0,0,0,0,0,1,0], # 110 \n",
    "    [0,0,0,0,0,0,0,1], # 111 \n",
    "]) \n"
   ]
  },
  {
   "cell_type": "code",
   "execution_count": null,
   "metadata": {},
   "outputs": [],
   "source": []
  }
 ],
 "metadata": {
  "kernelspec": {
   "display_name": "Python 3",
   "language": "python",
   "name": "python3"
  },
  "language_info": {
   "codemirror_mode": {
    "name": "ipython",
    "version": 3
   },
   "file_extension": ".py",
   "mimetype": "text/x-python",
   "name": "python",
   "nbconvert_exporter": "python",
   "pygments_lexer": "ipython3",
   "version": "3.7.5"
  }
 },
 "nbformat": 4,
 "nbformat_minor": 2
}
