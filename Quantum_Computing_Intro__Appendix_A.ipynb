{
 "cells": [
  {
   "cell_type": "code",
   "execution_count": 1,
   "metadata": {},
   "outputs": [
    {
     "name": "stdout",
     "output_type": "stream",
     "text": [
      "3.7.5 (v3.7.5:5c02a39a0b, Dec 27 2019, 11:41:00) \n",
      "[GCC 6.3.0 20170516]\n"
     ]
    }
   ],
   "source": [
    "import sys\n",
    "print(sys.version)\n",
    "\n",
    "import numpy as np\n",
    "import matplotlib.pyplot as plt\n",
    "%matplotlib inline\n",
    "\n",
    "from qiskit import(\n",
    "  QuantumCircuit,\n",
    "  execute,\n",
    "  Aer)\n",
    "from qiskit.visualization import plot_histogram"
   ]
  },
  {
   "cell_type": "code",
   "execution_count": 5,
   "metadata": {},
   "outputs": [],
   "source": [
    "class Gate(object):\n",
    "    amount_of_qbits = 3\n",
    "    amount_of_cbits = 1\n",
    "    display_gate = False\n",
    "    \n",
    "    def print(self):\n",
    "        print(self.circuit)\n",
    "    \n",
    "    def draw(self, output=\"mpl\"):\n",
    "        return self.circuit.draw(output=output)\n",
    "    \n",
    "    def prepare_initial_state(self, initial_state):\n",
    "        for i in range(self.amount_of_qbits):\n",
    "            if initial_state[i] == '1':\n",
    "                self.circuit.x(i)\n",
    "    \n",
    "    def logic(self):\n",
    "        raise NotImplementedError()\n",
    "    \n",
    "    def get_output_state(self):\n",
    "        simulator = Aer.get_backend('statevector_simulator')\n",
    "        job = execute(self.circuit, simulator)\n",
    "        result = job.result()\n",
    "        outputstate = result.get_statevector(self.circuit, decimals=3)    \n",
    "\n",
    "        return outputstate\n",
    "    \n",
    "    @staticmethod\n",
    "    def outputstate_to_bin(outputstate):\n",
    "        l = np.log2(len(outputstate))\n",
    "        index = np.where(outputstate != 0)[0][0]\n",
    "        s = bin(index)[2:]\n",
    "        s = '0'*int(l-len(s)) + s\n",
    "        return s[::-1]\n",
    "    \n",
    "    def execute(self, state=\"110\"):\n",
    "        self.circuit = QuantumCircuit(self.amount_of_qbits, self.amount_of_cbits)\n",
    "        self.prepare_initial_state(state)\n",
    "        self.logic()\n",
    "        \n",
    "        if self.display_gate:\n",
    "            self.print()\n",
    "        \n",
    "        return self.outputstate_to_bin(\n",
    "            self.get_output_state()\n",
    "        )\n",
    "    \n",
    "class AND(Gate):\n",
    "    def logic(self):\n",
    "        self.circuit.cswap(0,1,2)\n",
    "        self.circuit.cnot(2,1)\n",
    "        self.circuit.measure(2,0)\n",
    "\n",
    "class AND2(Gate):\n",
    "    def logic(self):\n",
    "        self.circuit.ccx(0,1,2)\n",
    "        self.circuit.measure(2,0)\n",
    "\n",
    "class XOR(Gate):\n",
    "    def logic(self):\n",
    "        self.circuit.cnot(0,2)\n",
    "        self.circuit.cnot(1,2)\n",
    "        self.circuit.measure(2,0)\n",
    "\n",
    "class XOR2(Gate):\n",
    "    amount_of_qbits = 2\n",
    "    def logic(self):\n",
    "        self.circuit.cnot(0,1)\n",
    "        self.circuit.measure(1,0)\n",
    "        self.circuit.cnot(0,1)\n",
    "\n",
    "class OR(Gate):\n",
    "    def logic(self):\n",
    "        self.circuit.x(0)\n",
    "        self.circuit.x(1)\n",
    "        self.circuit.ccx(0,1,2)\n",
    "        self.circuit.x(2)\n",
    "        # restore input bits\n",
    "        self.circuit.x(0)\n",
    "        self.circuit.x(1)\n",
    "        \n",
    "        self.circuit.measure(2,0)\n"
   ]
  },
  {
   "cell_type": "code",
   "execution_count": 3,
   "metadata": {},
   "outputs": [
    {
     "name": "stdout",
     "output_type": "stream",
     "text": [
      "AND\n",
      "000 : 000\n",
      "010 : 010\n",
      "100 : 100\n",
      "110 : 111\n",
      "XOR\n",
      "000 : 000\n",
      "010 : 011\n",
      "100 : 101\n",
      "110 : 110\n",
      "OR\n",
      "000 : 000\n",
      "010 : 011\n",
      "100 : 101\n",
      "110 : 111\n"
     ]
    }
   ],
   "source": [
    "# test the gates\n",
    "a = AND()\n",
    "x = XOR()\n",
    "o = OR()\n",
    "combinations = [\"00\", \"01\", \"10\", \"11\"]\n",
    "\n",
    "print(\"AND\")\n",
    "for i in combinations:\n",
    "    print(f\"{i}0 : {a.execute(i+'0')}\")\n",
    "print(\"XOR\")\n",
    "for i in combinations:\n",
    "    print(f\"{i}0 : {x.execute(i+'0')}\")\n",
    "print(\"OR\")\n",
    "for i in combinations:\n",
    "    print(f\"{i}0 : {o.execute(i+'0')}\")"
   ]
  },
  {
   "cell_type": "code",
   "execution_count": 6,
   "metadata": {},
   "outputs": [
    {
     "data": {
      "image/png": "[encoded data removed]",
      "text/plain": [
       "<Figure size 397.32x264.88 with 1 Axes>"
      ]
     },
     "execution_count": 6,
     "metadata": {},
     "output_type": "execute_result"
    }
   ],
   "source": [
    "# plot the gate\n",
    "temp = OR()\n",
    "temp.execute('000')\n",
    "temp.draw()\n",
    "# temp.circuit.draw(output=\"mpl\")"
   ]
  },
  {
   "cell_type": "code",
   "execution_count": null,
   "metadata": {},
   "outputs": [],
   "source": []
  }
 ],
 "metadata": {
  "kernelspec": {
   "display_name": "Python 3",
   "language": "python",
   "name": "python3"
  },
  "language_info": {
   "codemirror_mode": {
    "name": "ipython",
    "version": 3
   },
   "file_extension": ".py",
   "mimetype": "text/x-python",
   "name": "python",
   "nbconvert_exporter": "python",
   "pygments_lexer": "ipython3",
   "version": "3.7.5"
  }
 },
 "nbformat": 4,
 "nbformat_minor": 2
}
