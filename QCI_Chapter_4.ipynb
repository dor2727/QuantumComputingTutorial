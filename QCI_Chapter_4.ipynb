{
 "cells": [
  {
   "cell_type": "code",
   "execution_count": 2,
   "metadata": {},
   "outputs": [
    {
     "name": "stdout",
     "output_type": "stream",
     "text": [
      "3.7.5 (v3.7.5:5c02a39a0b, Dec 27 2019, 11:41:00) \n",
      "[GCC 6.3.0 20170516]\n"
     ]
    }
   ],
   "source": [
    "import sys\n",
    "print(sys.version)\n",
    "\n",
    "import numpy as np\n",
    "import matplotlib.pyplot as plt\n",
    "%matplotlib inline\n",
    "\n",
    "from qiskit import(\n",
    "  QuantumCircuit,\n",
    "  execute,\n",
    "  Aer)\n",
    "from qiskit.visualization import plot_histogram"
   ]
  },
  {
   "cell_type": "code",
   "execution_count": 3,
   "metadata": {},
   "outputs": [
    {
     "data": {
      "image/png": "[encoded data removed]",
      "text/plain": [
       "<Figure size 216.72x144.48 with 1 Axes>"
      ]
     },
     "execution_count": 3,
     "metadata": {},
     "output_type": "execute_result"
    }
   ],
   "source": [
    "# example #1: drawing circuits\n",
    "\n",
    "amount_of_qbits = 2\n",
    "# build the main circuit\n",
    "circuit = QuantumCircuit(amount_of_qbits)\n",
    "\n",
    "# circuit.x(0)\n",
    "# circuit.x(1)\n",
    "# circuit.swap(0,1)\n",
    "# circuit.cnot(0,1)\n",
    "# circuit.ch(1,0)\n",
    "circuit.cz(0,1)\n",
    "\n",
    "\n",
    "# Draw the circuit\n",
    "circuit.draw(output=\"mpl\")\n",
    "# circuit.draw(output=\"text\")"
   ]
  },
  {
   "cell_type": "code",
   "execution_count": 5,
   "metadata": {},
   "outputs": [],
   "source": [
    "# single qbit states\n",
    "zero = np.array([1,0])\n",
    "one = np.array([0,1])\n",
    "\n",
    "# single qbit gates\n",
    "I = np.array([[1,0],[0,1]])\n",
    "\n",
    "X = np.array([[0,1],[1,0]])\n",
    "Y = np.array([[0,1j],[-1j,0]])\n",
    "Z = np.array([[1,0],[0,-1]])\n",
    "\n",
    "H = np.array([[1,1],[1,-1]]) / np.sqrt(2)\n",
    "\n",
    "# 2 qbit states\n",
    "# 2 stands for 2 bits\n",
    "zero2  = np.outer(zero, zero).reshape(4)\n",
    "one2   = np.outer(zero, one ).reshape(4)\n",
    "two2   = np.outer(one , zero).reshape(4)\n",
    "three2 = np.outer(one , one ).reshape(4)\n",
    "\n",
    "# 2 qbits gates\n",
    "C = np.array([\n",
    "\t[1,0,0,0],\n",
    "\t[0,1,0,0],\n",
    "\t[0,0,0,1],\n",
    "\t[0,0,1,0],\n",
    "])\n",
    "\n",
    "H2 = np.array([\n",
    "\t[1, 1, 1, 1],\n",
    "\t[1,-1, 1,-1],\n",
    "\t[1, 1,-1,-1],\n",
    "\t[1,-1,-1, 1],\n",
    "]) / 2\n"
   ]
  },
  {
   "cell_type": "code",
   "execution_count": 6,
   "metadata": {},
   "outputs": [
    {
     "name": "stdout",
     "output_type": "stream",
     "text": [
      "[1 0]\n",
      "[0.70710678 0.70710678]\n",
      "[1. 0.]\n"
     ]
    }
   ],
   "source": [
    "# example #2: HH|0>=|0>\n",
    "print(zero)\n",
    "print(H.dot(zero))\n",
    "print(H.dot(H.dot(zero)))"
   ]
  },
  {
   "cell_type": "code",
   "execution_count": 8,
   "metadata": {},
   "outputs": [
    {
     "data": {
      "text/plain": [
       "array([[-2.23711432e-17,  1.00000000e+00],\n",
       "       [ 1.00000000e+00, -2.23711432e-17]])"
      ]
     },
     "execution_count": 8,
     "metadata": {},
     "output_type": "execute_result"
    }
   ],
   "source": [
    "# example #3: X,Z,H\n",
    "X.dot(X)\n",
    "Z.dot(Z)\n",
    "H.dot(H)\n",
    "H.dot(X).dot(H) # HXH\n",
    "H.dot(Z).dot(H) # HZH"
   ]
  },
  {
   "cell_type": "code",
   "execution_count": 7,
   "metadata": {},
   "outputs": [
    {
     "name": "stdout",
     "output_type": "stream",
     "text": [
      "[[0.-0.j 0.-1.j]\n",
      " [0.-1.j 0.-0.j]]\n",
      "[[0.+0.j 0.-1.j]\n",
      " [0.-1.j 0.+0.j]]\n",
      "-----\n",
      "[[ 0.-0.j  1.-0.j]\n",
      " [-1.+0.j  0.-0.j]]\n",
      "[[ 0  1]\n",
      " [-1  0]]\n",
      "-----\n",
      "[[0.-1.j 0.-0.j]\n",
      " [0.-0.j 0.+1.j]]\n",
      "[[0.-1.j 0.+0.j]\n",
      " [0.+0.j 0.+1.j]]\n"
     ]
    }
   ],
   "source": [
    "# example #3: X,Y,Z\n",
    "print(-1j*X)\n",
    "print(Y.dot(Z))\n",
    "print(\"-----\")\n",
    "print(-1j*Y)\n",
    "print(Z.dot(X))\n",
    "print(\"-----\")\n",
    "print(-1j*Z)\n",
    "print(X.dot(Y))"
   ]
  },
  {
   "cell_type": "code",
   "execution_count": null,
   "metadata": {},
   "outputs": [],
   "source": []
  }
 ],
 "metadata": {
  "kernelspec": {
   "display_name": "Python 3",
   "language": "python",
   "name": "python3"
  },
  "language_info": {
   "codemirror_mode": {
    "name": "ipython",
    "version": 3
   },
   "file_extension": ".py",
   "mimetype": "text/x-python",
   "name": "python",
   "nbconvert_exporter": "python",
   "pygments_lexer": "ipython3",
   "version": "3.7.5"
  }
 },
 "nbformat": 4,
 "nbformat_minor": 2
}
