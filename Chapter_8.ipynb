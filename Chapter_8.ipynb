{
 "cells": [
  {
   "cell_type": "code",
   "execution_count": 5,
   "metadata": {},
   "outputs": [
    {
     "name": "stdout",
     "output_type": "stream",
     "text": [
      "Python version: 3.8.5 (default, Jul 27 2020, 08:42:51) \n",
      "[GCC 10.1.0]\n",
      "qiskit version: {'qiskit-terra': '0.14.2', 'qiskit-aer': '0.5.2', 'qiskit-ignis': '0.3.3', 'qiskit-ibmq-provider': '0.7.2', 'qiskit-aqua': '0.7.3', 'qiskit': '0.19.6'}\n"
     ]
    }
   ],
   "source": [
    "import sys\n",
    "print(\"Python version:\", sys.version)\n",
    "\n",
    "import numpy as np\n",
    "import matplotlib.pyplot as plt\n",
    "%matplotlib inline\n",
    "# %config InlineBackend.figure_format = 'svg' # Makes the images look nice\n",
    "\n",
    "from qiskit import(\n",
    "  QuantumCircuit,\n",
    "  QuantumRegister, ClassicalRegister,\n",
    "  execute,\n",
    "  Aer)\n",
    "from qiskit.visualization import plot_histogram\n",
    "from qiskit import __qiskit_version__\n",
    "print(\"qiskit version:\", __qiskit_version__)"
   ]
  },
  {
   "cell_type": "code",
   "execution_count": 6,
   "metadata": {},
   "outputs": [
    {
     "data": {
      "image/png": "[encoded data removed]",
      "text/plain": [
       "<Figure size 113.176x84.28 with 1 Axes>"
      ]
     },
     "execution_count": 6,
     "metadata": {},
     "output_type": "execute_result"
    }
   ],
   "source": [
    "# draw the left side of the above equation\n",
    "c = QuantumCircuit(1)\n",
    "\n",
    "# c.x(0)\n",
    "# c.x(0)\n",
    "\n",
    "c.draw(output=\"mpl\")"
   ]
  },
  {
   "cell_type": "code",
   "execution_count": 9,
   "metadata": {},
   "outputs": [
    {
     "data": {
      "image/png": "[encoded data removed]",
      "text/plain": [
       "<Figure size 178.192x144.48 with 1 Axes>"
      ]
     },
     "execution_count": 9,
     "metadata": {},
     "output_type": "execute_result"
    }
   ],
   "source": [
    "# draw the left side of the above equation\n",
    "c = QuantumCircuit(2)\n",
    "\n",
    "# c.x(0)\n",
    "# c.cx(0,1)\n",
    "# c.x(0)\n",
    "\n",
    "c.draw(output=\"mpl\")"
   ]
  },
  {
   "cell_type": "code",
   "execution_count": 11,
   "metadata": {},
   "outputs": [
    {
     "data": {
      "image/png": "[encoded data removed]",
      "text/plain": [
       "<Figure size 293.776x84.28 with 1 Axes>"
      ]
     },
     "execution_count": 11,
     "metadata": {},
     "output_type": "execute_result"
    }
   ],
   "source": [
    "# X = HZH\n",
    "c = QuantumCircuit(1)\n",
    "\n",
    "# c.x(0)\n",
    "c.h(0)\n",
    "c.z(0)\n",
    "c.h(0)\n",
    "\n",
    "c.draw(output=\"mpl\")"
   ]
  },
  {
   "cell_type": "code",
   "execution_count": 15,
   "metadata": {},
   "outputs": [
    {
     "data": {
      "image/png": "[encoded data removed]",
      "text/plain": [
       "<Figure size 238.392x144.48 with 1 Axes>"
      ]
     },
     "execution_count": 15,
     "metadata": {},
     "output_type": "execute_result"
    }
   ],
   "source": [
    "# C_X = H C_Z H\n",
    "c = QuantumCircuit(2)\n",
    "\n",
    "c.cx(0,1)\n",
    "# c.h(1)\n",
    "# c.cz(0,1)\n",
    "# c.h(1)\n",
    "\n",
    "c.draw(output=\"mpl\")"
   ]
  },
  {
   "cell_type": "code",
   "execution_count": 4,
   "metadata": {},
   "outputs": [
    {
     "data": {
      "image/png": "[encoded data removed]",
      "text/plain": [
       "<Figure size 238.392x144.48 with 1 Axes>"
      ]
     },
     "execution_count": 4,
     "metadata": {},
     "output_type": "execute_result"
    }
   ],
   "source": [
    "# C_X_1,0 --> C_X_0,1\n",
    "c = QuantumCircuit(2)\n",
    "\n",
    "# first circuit\n",
    "#c.h(0)\n",
    "#c.h(1)\n",
    "#c.cx(0,1)\n",
    "#c.h(1)\n",
    "#c.h(0)\n",
    "\n",
    "# second circuit\n",
    "#c.h(0)\n",
    "c.cz(0,1)\n",
    "#c.h(0)\n",
    "\n",
    "# third circuit\n",
    "# c.cx(1,0)\n",
    "\n",
    "c.draw(output=\"mpl\")"
   ]
  },
  {
   "cell_type": "code",
   "execution_count": 11,
   "metadata": {},
   "outputs": [
    {
     "data": {
      "image/png": "[encoded data removed]",
      "text/plain": [
       "<Figure size 210.7x264.88 with 1 Axes>"
      ]
     },
     "execution_count": 11,
     "metadata": {},
     "output_type": "execute_result"
    }
   ],
   "source": [
    "# C^3\n",
    "zero = QuantumRegister(2, \"q_0,\")\n",
    "one  = QuantumRegister(1, \"q_1,\")\n",
    "two  = QuantumRegister(1, \"q_2,\")\n",
    "c = QuantumCircuit(zero, one, two)\n",
    "\n",
    "c.draw(output=\"mpl\")"
   ]
  },
  {
   "cell_type": "code",
   "execution_count": 8,
   "metadata": {},
   "outputs": [],
   "source": [
    "# taken from https://github.com/dor2727/manim/blob/my_project/my_project/qubit_utils.py#LC158\n",
    "\n",
    "class RotationMatrix(object):\n",
    "\tdef __init__(self, matrix, automatic_decomposition=True):\n",
    "\t\tif matrix.shape != (2,2):\n",
    "\t\t\traise ValueError(\"the input has to be a 2x2 np.ndarray\")\n",
    "\n",
    "\t\tself.matrix = matrix\n",
    "\n",
    "\t\t# I don't really like operating on objects inside __init__\n",
    "\t\t# however, since the whole purpose of this object is to expose properties of the matrix\n",
    "\t\t# And since I've tested the common cases\n",
    "\t\t# I decided that it would be better (for syntactic reasons) to decompose the matrix inside __init__\n",
    "\t\tif automatic_decomposition:\n",
    "\t\t\tself.decompose()\n",
    "\t\t\tself.axis = self._get_rotation_axis()\n",
    "\t\t\tself.theta = self._get_rotation_amount()\n",
    "\t\t\tself.theta_deg = self.theta * DEGREES\n",
    "\n",
    "\tdef decompose(self):\n",
    "\t\t\"\"\"\n",
    "\t\tassuming a matrix of the form: [ a , b ]\n",
    "\t\t\t\t\t\t\t\t\t   [ c , d ]\n",
    "\t\twe decompose into\n",
    "\t\talpha*I + beta*X + gamma*Y + delta*Z\n",
    "\t\t\"\"\"\n",
    "\t\ta,b,c,d = self.matrix.flatten()\n",
    "\t\tself.alpha = (a + d)/2\n",
    "\t\tself.delta = (a - d)/2\n",
    "\t\tself.beta  = (b + c)/2\n",
    "\t\tself.gamma = (c - b)/2j\n",
    "\n",
    "\t# this other decomposition method is actually not used, but it stays here because\n",
    "\t# 1) its always nice to see other decomposition methods\n",
    "\t# 2) maybe one day it will become useful\n",
    "\t@staticmethod\n",
    "\tdef _HS(M1, M2):\n",
    "\t\t\"\"\"Hilbert-Schmidt-Product of two matrices M1, M2\"\"\"\n",
    "\t\treturn (np.dot(M1.conjugate().transpose(), M2)).trace()\n",
    "\n",
    "\tdef _decompose2(self):\n",
    "\t\tself.alpha = self._HS(m,I) / 2\n",
    "\t\tself.beta  = self._HS(m,X) / 2\n",
    "\t\tself.gamma = self._HS(m,Y) / 2\n",
    "\t\tself.delta = self._HS(m,Z) / 2\n",
    "\n",
    "\n",
    "\tdef _get_rotation_axis(self):\n",
    "\t\tn = np.linalg.norm([\n",
    "\t\t\tself.beta,\n",
    "\t\t\tself.gamma,\n",
    "\t\t\tself.delta\n",
    "\t\t])\n",
    "\n",
    "\t\treturn np.array([\n",
    "\t\t\tabs(self.beta ) / n,\n",
    "\t\t\tabs(self.gamma) / n,\n",
    "\t\t\tabs(self.delta) / n,\n",
    "\t\t])\n",
    "\n",
    "\tdef _get_rotation_amount(self):\n",
    "\t\t\"\"\"\n",
    "\t\ta general rotation matrix, rotation theta radians, in the direction of n_hat, can be written as:\n",
    "\t\tcos(theta/2) I - i sin(theta/2) n_hat dot sigma_vector\n",
    "\t\tThus, we take alpha (the coefficient for I).\n",
    "\t\tThen we take its absolute value, to remove any absolute phase\n",
    "\t\tAnd then we take inverse-cosine, and multiply by 2\n",
    "\t\t\"\"\"\n",
    "\t\ttheta = np.arccos(abs(self.alpha))*2\n",
    "\t\tif self.alpha.imag < 0:\n",
    "\t\t\ttheta = TAU - theta\n",
    "\t\treturn theta\n",
    "\n",
    "PI = np.pi\n",
    "TAU = 2 * PI\n",
    "DEGREES = TAU / 360"
   ]
  },
  {
   "cell_type": "code",
   "execution_count": 9,
   "metadata": {},
   "outputs": [
    {
     "name": "stdout",
     "output_type": "stream",
     "text": [
      "[0.         0.70710678 0.70710678]\n",
      "3.141592653589793\n"
     ]
    }
   ],
   "source": [
    "Hadamard_Y_Z = 1/np.sqrt(2) * np.array([[1 ,-1j], [1j,-1 ]])\n",
    "rm = RotationMatrix(Hadamard_Y_Z)\n",
    "print(rm._get_rotation_axis())\n",
    "print(rm._get_rotation_amount())"
   ]
  },
  {
   "cell_type": "code",
   "execution_count": null,
   "metadata": {},
   "outputs": [],
   "source": []
  }
 ],
 "metadata": {
  "kernelspec": {
   "display_name": "Python 3",
   "language": "python",
   "name": "python3"
  },
  "language_info": {
   "codemirror_mode": {
    "name": "ipython",
    "version": 3
   },
   "file_extension": ".py",
   "mimetype": "text/x-python",
   "name": "python",
   "nbconvert_exporter": "python",
   "pygments_lexer": "ipython3",
   "version": "3.8.5"
  }
 },
 "nbformat": 4,
 "nbformat_minor": 4
}
