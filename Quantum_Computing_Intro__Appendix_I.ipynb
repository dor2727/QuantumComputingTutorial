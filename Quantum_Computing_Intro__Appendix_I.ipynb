{
 "cells": [
  {
   "cell_type": "code",
   "execution_count": 1,
   "metadata": {},
   "outputs": [
    {
     "name": "stdout",
     "output_type": "stream",
     "text": [
      "3.8.1 (tags/v3.8.1:1b293b6006, Jan  6 2020, 11:40:25) \n",
      "[GCC 9.2.1 20191008]\n"
     ]
    },
    {
     "name": "stderr",
     "output_type": "stream",
     "text": [
      "/usr/local/lib/python3.8/site-packages/websockets/framing.py:76: DeprecationWarning: \"@coroutine\" decorator is deprecated since Python 3.8, use \"async def\" instead\n",
      "  def read(cls, reader, *, mask, max_size=None, extensions=None):\n",
      "/usr/local/lib/python3.8/site-packages/websockets/http.py:53: DeprecationWarning: \"@coroutine\" decorator is deprecated since Python 3.8, use \"async def\" instead\n",
      "  def read_request(stream):\n",
      "/usr/local/lib/python3.8/site-packages/websockets/http.py:98: DeprecationWarning: \"@coroutine\" decorator is deprecated since Python 3.8, use \"async def\" instead\n",
      "  def read_response(stream):\n",
      "/usr/local/lib/python3.8/site-packages/websockets/http.py:142: DeprecationWarning: \"@coroutine\" decorator is deprecated since Python 3.8, use \"async def\" instead\n",
      "  def read_headers(stream):\n",
      "/usr/local/lib/python3.8/site-packages/websockets/http.py:182: DeprecationWarning: \"@coroutine\" decorator is deprecated since Python 3.8, use \"async def\" instead\n",
      "  def read_line(stream):\n",
      "/usr/local/lib/python3.8/site-packages/websockets/protocol.py:357: DeprecationWarning: \"@coroutine\" decorator is deprecated since Python 3.8, use \"async def\" instead\n",
      "  def wait_closed(self):\n",
      "/usr/local/lib/python3.8/site-packages/websockets/protocol.py:370: DeprecationWarning: \"@coroutine\" decorator is deprecated since Python 3.8, use \"async def\" instead\n",
      "  def recv(self):\n",
      "/usr/local/lib/python3.8/site-packages/websockets/protocol.py:447: DeprecationWarning: \"@coroutine\" decorator is deprecated since Python 3.8, use \"async def\" instead\n",
      "  def send(self, data):\n",
      "/usr/local/lib/python3.8/site-packages/websockets/protocol.py:514: DeprecationWarning: \"@coroutine\" decorator is deprecated since Python 3.8, use \"async def\" instead\n",
      "  def close(self, code=1000, reason=''):\n",
      "/usr/local/lib/python3.8/site-packages/websockets/protocol.py:564: DeprecationWarning: \"@coroutine\" decorator is deprecated since Python 3.8, use \"async def\" instead\n",
      "  def ping(self, data=None):\n",
      "/usr/local/lib/python3.8/site-packages/websockets/protocol.py:603: DeprecationWarning: \"@coroutine\" decorator is deprecated since Python 3.8, use \"async def\" instead\n",
      "  def pong(self, data=b''):\n",
      "/usr/local/lib/python3.8/site-packages/websockets/protocol.py:623: DeprecationWarning: \"@coroutine\" decorator is deprecated since Python 3.8, use \"async def\" instead\n",
      "  def ensure_open(self):\n",
      "/usr/local/lib/python3.8/site-packages/websockets/protocol.py:665: DeprecationWarning: \"@coroutine\" decorator is deprecated since Python 3.8, use \"async def\" instead\n",
      "  def transfer_data(self):\n",
      "/usr/local/lib/python3.8/site-packages/websockets/protocol.py:733: DeprecationWarning: \"@coroutine\" decorator is deprecated since Python 3.8, use \"async def\" instead\n",
      "  def read_message(self):\n",
      "/usr/local/lib/python3.8/site-packages/websockets/protocol.py:804: DeprecationWarning: \"@coroutine\" decorator is deprecated since Python 3.8, use \"async def\" instead\n",
      "  def read_data_frame(self, max_size):\n",
      "/usr/local/lib/python3.8/site-packages/websockets/protocol.py:875: DeprecationWarning: \"@coroutine\" decorator is deprecated since Python 3.8, use \"async def\" instead\n",
      "  def read_frame(self, max_size):\n",
      "/usr/local/lib/python3.8/site-packages/websockets/protocol.py:890: DeprecationWarning: \"@coroutine\" decorator is deprecated since Python 3.8, use \"async def\" instead\n",
      "  def write_frame(self, fin, opcode, data, *, _expected_state=State.OPEN):\n",
      "/usr/local/lib/python3.8/site-packages/websockets/protocol.py:941: DeprecationWarning: \"@coroutine\" decorator is deprecated since Python 3.8, use \"async def\" instead\n",
      "  def write_close_frame(self, data=b''):\n",
      "/usr/local/lib/python3.8/site-packages/websockets/protocol.py:962: DeprecationWarning: \"@coroutine\" decorator is deprecated since Python 3.8, use \"async def\" instead\n",
      "  def keepalive_ping(self):\n",
      "/usr/local/lib/python3.8/site-packages/websockets/protocol.py:1003: DeprecationWarning: \"@coroutine\" decorator is deprecated since Python 3.8, use \"async def\" instead\n",
      "  def close_connection(self):\n",
      "/usr/local/lib/python3.8/site-packages/websockets/protocol.py:1068: DeprecationWarning: \"@coroutine\" decorator is deprecated since Python 3.8, use \"async def\" instead\n",
      "  def wait_for_connection_lost(self):\n",
      "/usr/local/lib/python3.8/site-packages/websockets/client.py:61: DeprecationWarning: \"@coroutine\" decorator is deprecated since Python 3.8, use \"async def\" instead\n",
      "  def write_http_request(self, path, headers):\n",
      "/usr/local/lib/python3.8/site-packages/websockets/client.py:77: DeprecationWarning: \"@coroutine\" decorator is deprecated since Python 3.8, use \"async def\" instead\n",
      "  def read_http_response(self):\n",
      "/usr/local/lib/python3.8/site-packages/websockets/client.py:215: DeprecationWarning: \"@coroutine\" decorator is deprecated since Python 3.8, use \"async def\" instead\n",
      "  def handshake(\n",
      "/usr/local/lib/python3.8/site-packages/websockets/client.py:443: DeprecationWarning: \"@coroutine\" decorator is deprecated since Python 3.8, use \"async def\" instead\n",
      "  def __iter__(self):  # pragma: no cover\n",
      "/usr/local/lib/python3.8/site-packages/websockets/server.py:101: DeprecationWarning: \"@coroutine\" decorator is deprecated since Python 3.8, use \"async def\" instead\n",
      "  def handler(self):\n",
      "/usr/local/lib/python3.8/site-packages/websockets/server.py:200: DeprecationWarning: \"@coroutine\" decorator is deprecated since Python 3.8, use \"async def\" instead\n",
      "  def read_http_request(self):\n",
      "/usr/local/lib/python3.8/site-packages/websockets/server.py:223: DeprecationWarning: \"@coroutine\" decorator is deprecated since Python 3.8, use \"async def\" instead\n",
      "  def write_http_response(self, status, headers, body=None):\n",
      "/usr/local/lib/python3.8/site-packages/websockets/server.py:243: DeprecationWarning: \"@coroutine\" decorator is deprecated since Python 3.8, use \"async def\" instead\n",
      "  def process_request(self, path, request_headers):\n",
      "/usr/local/lib/python3.8/site-packages/websockets/server.py:436: DeprecationWarning: \"@coroutine\" decorator is deprecated since Python 3.8, use \"async def\" instead\n",
      "  def handshake(\n",
      "/usr/local/lib/python3.8/site-packages/websockets/server.py:602: DeprecationWarning: \"@coroutine\" decorator is deprecated since Python 3.8, use \"async def\" instead\n",
      "  def _close(self):\n",
      "/usr/local/lib/python3.8/site-packages/websockets/server.py:643: DeprecationWarning: \"@coroutine\" decorator is deprecated since Python 3.8, use \"async def\" instead\n",
      "  def wait_closed(self):\n",
      "/usr/local/lib/python3.8/site-packages/websockets/server.py:837: DeprecationWarning: \"@coroutine\" decorator is deprecated since Python 3.8, use \"async def\" instead\n",
      "  def __iter__(self):  # pragma: no cover\n"
     ]
    }
   ],
   "source": [
    "import sys\n",
    "print(sys.version)\n",
    "\n",
    "import numpy as np\n",
    "import matplotlib.pyplot as plt\n",
    "%matplotlib inline\n",
    "\n",
    "from qiskit import(\n",
    "  QuantumCircuit,\n",
    "  execute,\n",
    "  Aer)\n",
    "from qiskit.visualization import plot_histogram\n",
    "from qiskit.circuit import Gate"
   ]
  },
  {
   "cell_type": "code",
   "execution_count": 3,
   "metadata": {},
   "outputs": [
    {
     "data": {
      "text/html": [
       "<pre style=\"word-wrap: normal;white-space: pre;background: #fff0;line-height: 1.1;font-family: &quot;Courier New&quot;,Courier,monospace\">          \n",
       "q_0: ──■──\n",
       "       │  \n",
       "q_1: ──■──\n",
       "     ┌─┴─┐\n",
       "q_2: ┤ X ├\n",
       "     └───┘</pre>"
      ],
      "text/plain": [
       "          \n",
       "q_0: ──■──\n",
       "       │  \n",
       "q_1: ──■──\n",
       "     ┌─┴─┐\n",
       "q_2: ┤ X ├\n",
       "     └───┘"
      ]
     },
     "execution_count": 3,
     "metadata": {},
     "output_type": "execute_result"
    }
   ],
   "source": [
    "# example of a ccx/toffoli gate\n",
    "\n",
    "amount_of_qbits = 3\n",
    "\n",
    "# build the main circuit\n",
    "circuit = QuantumCircuit(amount_of_qbits)\n",
    "\n",
    "# circuit.toffoli(2,1,0)\n",
    "circuit.ccx(0,1,2)\n",
    "\n",
    "# Draw the circuit\n",
    "circuit.draw(output=\"mpl\")\n",
    "circuit.draw(output=\"text\")"
   ]
  },
  {
   "cell_type": "code",
   "execution_count": 7,
   "metadata": {},
   "outputs": [
    {
     "data": {
      "image/png": "[encoded data removed]",
      "text/plain": [
       "<Figure size 298.592x204.68 with 1 Axes>"
      ]
     },
     "execution_count": 7,
     "metadata": {},
     "output_type": "execute_result"
    }
   ],
   "source": [
    "# example of 2 cnot gates\n",
    "\n",
    "amount_of_qbits = 3\n",
    "\n",
    "# build the main circuit\n",
    "circuit = QuantumCircuit(amount_of_qbits)\n",
    "\n",
    "circuit.cx(1,2)\n",
    "circuit.cx(0,2)\n",
    "\n",
    "# Draw the circuit\n",
    "circuit.draw(output=\"mpl\")"
   ]
  },
  {
   "cell_type": "code",
   "execution_count": 46,
   "metadata": {},
   "outputs": [
    {
     "name": "stdout",
     "output_type": "stream",
     "text": [
      "input : 000\n",
      "output: 000\n"
     ]
    },
    {
     "data": {
      "image/png": "[encoded data removed]",
      "text/plain": [
       "<Figure size 479.192x204.68 with 1 Axes>"
      ]
     },
     "execution_count": 46,
     "metadata": {},
     "output_type": "execute_result"
    }
   ],
   "source": [
    "def outputstate_to_bin(outputstate):\n",
    "    # get amount of bits\n",
    "    l = np.log2(len(outputstate))\n",
    "    # find every index where there is a non-zero probability\n",
    "    #indexes = np.where(res != 0)[0]\n",
    "    indexes = np.where(outputstate)[0]\n",
    "    # convert it to bin\n",
    "    s = [bin(i)[2:] for i in indexes]\n",
    "    # pad with zeros\n",
    "    s = [\n",
    "        '0'*int(l-len(i)) + i\n",
    "        for i in s\n",
    "    ]\n",
    "    # move lowest bit to the right\n",
    "    s = [i[::-1] for i in s]\n",
    "    # return all the results\n",
    "    return ' & '.join(s)\n",
    "\n",
    "def get_results(circuit):\n",
    "    simulator = Aer.get_backend('statevector_simulator')\n",
    "    job = execute(circuit, simulator)\n",
    "    result = job.result()\n",
    "    outputstate = result.get_statevector(circuit, decimals=3)\n",
    "    return outputstate_to_bin(outputstate)\n",
    "\n",
    "def create_toffoli_gate(i2=0, i1=0, i0=0, sqrt=False):\n",
    "    amount_of_qbits = 3\n",
    "    circuit = QuantumCircuit(amount_of_qbits)\n",
    "    \n",
    "    if i0:\n",
    "        circuit.x(0)\n",
    "    if i1:\n",
    "        circuit.x(1)\n",
    "    if i2:\n",
    "        circuit.x(2)\n",
    "\n",
    "    if sqrt:\n",
    "        circuit.append(sqrt_x.control(), [1,2])\n",
    "        circuit.cx(0,1)\n",
    "        circuit.append(sqrt_x.inverse().control(), [1,2])\n",
    "        circuit.cx(0,1)\n",
    "        circuit.append(sqrt_x.control(), [0,2])\n",
    "    else:\n",
    "        circuit.cx(1,2)\n",
    "        circuit.cx(0,1)\n",
    "        circuit.cx(1,2)\n",
    "        circuit.cx(0,1)\n",
    "        circuit.cx(0,2)\n",
    "    \n",
    "    print(f\"input : {i0}{i1}{i2}\")\n",
    "    print(f\"output: {get_results(circuit)}\")\n",
    "    return circuit.draw(output=\"mpl\")\n",
    "\n",
    "# for i0 in (0,1):\n",
    "#     for i1 in (0,1):\n",
    "#         for i2 in (0,1):\n",
    "#             create_toffoli_gate(i2, i1, i0, False)\n",
    "create_toffoli_gate(0,0,0, True)"
   ]
  },
  {
   "cell_type": "code",
   "execution_count": 45,
   "metadata": {},
   "outputs": [],
   "source": [
    "sqrt_x.name = \"sqrt_U\""
   ]
  },
  {
   "cell_type": "code",
   "execution_count": 8,
   "metadata": {},
   "outputs": [
    {
     "name": "stdout",
     "output_type": "stream",
     "text": [
      "000\n"
     ]
    },
    {
     "data": {
      "image/png": "[encoded data removed]",
      "text/plain": [
       "<Figure size 479.192x204.68 with 1 Axes>"
      ]
     },
     "execution_count": 8,
     "metadata": {},
     "output_type": "execute_result"
    }
   ],
   "source": [
    "# Superdense Coding Circuit using a bell pair\n",
    "\n",
    "amount_of_qbits = 3\n",
    "\n",
    "# build the main circuit\n",
    "circuit = QuantumCircuit(amount_of_qbits)\n",
    "\n",
    "circuit.cx(1,2)\n",
    "circuit.cx(0,1)\n",
    "circuit.cx(1,2)\n",
    "circuit.cx(0,1)\n",
    "circuit.cx(0,2)\n",
    "\n",
    "simulator = Aer.get_backend('statevector_simulator')\n",
    "job = execute(circuit, simulator)\n",
    "result = job.result()\n",
    "outputstate = result.get_statevector(circuit, decimals=3)\n",
    "print(outputstate_to_bin(outputstate))\n",
    "\n",
    "# Draw the circuit\n",
    "circuit.draw(output=\"mpl\")"
   ]
  },
  {
   "cell_type": "code",
   "execution_count": 108,
   "metadata": {},
   "outputs": [],
   "source": [
    "# a helper class for defining quantum circuits\n",
    "\n",
    "class GateWrapper(object):\n",
    "    amount_of_qbits = 3\n",
    "    amount_of_cbits = 1\n",
    "    display_gate = False\n",
    "    \n",
    "    def draw(self, output=\"mpl\"):\n",
    "        # if the circuit is not initialized\n",
    "        if getattr(self, \"circuit\", None) is None:\n",
    "            # then initialize it\n",
    "            self.execute()\n",
    "\n",
    "        return self.circuit.draw(output=output)\n",
    "    \n",
    "    def prepare_initial_state(self, initial_state):\n",
    "        # the initial state of a quantum register is |0>\n",
    "        # thus, to get the |1> state, a X gate is applied\n",
    "        for i in range(len(initial_state)):\n",
    "            if initial_state[i] == '1':\n",
    "                self.circuit.x(i)\n",
    "    \n",
    "    def logic(self):\n",
    "        raise NotImplementedError()\n",
    "    # in a basic case, self.logic is enough\n",
    "    # in the BernsteinVazirani, for example, it is nice to split it into several functions\n",
    "    def pre_logic(self):\n",
    "        pass\n",
    "    def post_logic(self):\n",
    "        pass\n",
    "    def measure(self):\n",
    "        pass\n",
    "\n",
    "\n",
    "    # helper function\n",
    "    def get_output_state(self):\n",
    "        simulator = Aer.get_backend('statevector_simulator')\n",
    "        job = execute(self.circuit, simulator)\n",
    "        result = job.result()\n",
    "        outputstate = result.get_statevector(self.circuit, decimals=3)    \n",
    "\n",
    "        return outputstate\n",
    "\n",
    "    # helper function\n",
    "    @staticmethod\n",
    "    def outputstate_to_bin(outputstate):\n",
    "        # get amount of bits\n",
    "        l = np.log2(len(outputstate))\n",
    "        # find every index where there is a non-zero probability\n",
    "        #indexes = np.where(res != 0)[0]\n",
    "        indexes = np.where(outputstate)[0]\n",
    "        # convert it to bin\n",
    "        s = [bin(i)[2:] for i in indexes]\n",
    "        # pad with zeros\n",
    "        s = [\n",
    "            '0'*int(l-len(i)) + i\n",
    "            for i in s\n",
    "        ]\n",
    "        # move lowest bit to the right\n",
    "        s = [i[::-1] for i in s]\n",
    "        # return all the results\n",
    "        return ' & '.join(s)\n",
    "\n",
    "    def initialize_circuit(self):\n",
    "        self.circuit = QuantumCircuit(self.amount_of_qbits, self.amount_of_cbits)\n",
    "        \n",
    "    def execute(self, state=\"0\", raw=False):\n",
    "        self.initialize_circuit()\n",
    "        self.prepare_initial_state(state)\n",
    "        \n",
    "        self.pre_logic()\n",
    "        self.logic()\n",
    "        self.post_logic()\n",
    "        self.measure()\n",
    "        \n",
    "        if self.display_gate:\n",
    "            self.print()\n",
    "        \n",
    "        outputstate = self.get_output_state()\n",
    "        if raw:\n",
    "            return outputstate\n",
    "        else:\n",
    "            return self.outputstate_to_bin( outputstate )\n",
    "\n",
    "    def execute_all(self):\n",
    "        results = []\n",
    "        for i in range(2**self.amount_of_qbits):\n",
    "            s = bin(i)[2:].zfill(self.amount_of_qbits)\n",
    "            o = self.execute(s)\n",
    "            results.append((s, o))\n",
    "            print(f\"{s} -> {o}\")"
   ]
  },
  {
   "cell_type": "code",
   "execution_count": 109,
   "metadata": {},
   "outputs": [],
   "source": [
    "class Toffoli(GateWrapper):\n",
    "    input_state = \"000\"\n",
    "    def pre_logic(self):\n",
    "        for i in range(len(self.input_state)):\n",
    "            if self.input_state[i] == '1':\n",
    "                self.circuit.x(i)\n",
    "\n",
    "    def logic(self):\n",
    "        self.circuit.cx(1,2)\n",
    "        self.circuit.cx(1,0)\n",
    "        self.circuit.cx(0,2)\n",
    "        self.circuit.x(1)\n",
    "        self.circuit.cx(1,2)\n",
    "        return\n",
    "        \n",
    "        self.circuit.cx(1,2)\n",
    "        self.circuit.cx(1,0)\n",
    "        self.circuit.cx(0,2)\n",
    "        self.circuit.cx(1,2)\n",
    "        self.circuit.cx(1,0)\n",
    "        self.circuit.cx(0,2)\n",
    "\n",
    "        self.circuit.cx(1,0)\n",
    "        self.circuit.cx(0,2)\n",
    "        self.circuit.cx(1,0)\n",
    "        self.circuit.cx(0,1)\n",
    "        self.circuit.cx(1,0)\n",
    "        \n",
    "        self.circuit.cx(1,0)\n",
    "        self.circuit.cx(0,1)\n",
    "#         self.circuit.x(1)\n",
    "#         self.circuit.cx(0,2)\n"
   ]
  },
  {
   "cell_type": "code",
   "execution_count": 110,
   "metadata": {},
   "outputs": [
    {
     "name": "stdout",
     "output_type": "stream",
     "text": [
      "000 -> 011\n",
      "001 -> 010\n",
      "010 -> 100\n",
      "011 -> 101\n",
      "100 -> 110\n",
      "101 -> 111\n",
      "110 -> 001\n",
      "111 -> 000\n"
     ]
    },
    {
     "data": {
      "image/png": "[encoded data removed]",
      "text/plain": [
       "<Figure size 539.392x264.88 with 1 Axes>"
      ]
     },
     "execution_count": 110,
     "metadata": {},
     "output_type": "execute_result"
    }
   ],
   "source": [
    "t = Toffoli()\n",
    "t.execute_all()\n",
    "t.draw()"
   ]
  },
  {
   "cell_type": "code",
   "execution_count": 111,
   "metadata": {},
   "outputs": [],
   "source": [
    "Gate?"
   ]
  },
  {
   "cell_type": "code",
   "execution_count": 112,
   "metadata": {},
   "outputs": [
    {
     "data": {
      "text/plain": [
       "['AND',\n",
       " 'OR',\n",
       " '__add__',\n",
       " '__class__',\n",
       " '__delattr__',\n",
       " '__dict__',\n",
       " '__dir__',\n",
       " '__doc__',\n",
       " '__eq__',\n",
       " '__format__',\n",
       " '__ge__',\n",
       " '__getattribute__',\n",
       " '__getitem__',\n",
       " '__gt__',\n",
       " '__hash__',\n",
       " '__iadd__',\n",
       " '__init__',\n",
       " '__init_subclass__',\n",
       " '__le__',\n",
       " '__len__',\n",
       " '__lt__',\n",
       " '__module__',\n",
       " '__ne__',\n",
       " '__new__',\n",
       " '__reduce__',\n",
       " '__reduce_ex__',\n",
       " '__repr__',\n",
       " '__setattr__',\n",
       " '__sizeof__',\n",
       " '__str__',\n",
       " '__subclasshook__',\n",
       " '__weakref__',\n",
       " '_append',\n",
       " '_bind_parameter',\n",
       " '_bit_argument_conversion',\n",
       " '_check_cargs',\n",
       " '_check_compatible_regs',\n",
       " '_check_dup_param_spec',\n",
       " '_check_dups',\n",
       " '_check_qargs',\n",
       " '_create_creg',\n",
       " '_data',\n",
       " '_increment_instances',\n",
       " '_layout',\n",
       " '_parameter_table',\n",
       " '_rebind_definition',\n",
       " '_substitute_parameter',\n",
       " '_unroll_param_dict',\n",
       " '_update_parameter_table',\n",
       " 'add_register',\n",
       " 'append',\n",
       " 'assign_parameters',\n",
       " 'barrier',\n",
       " 'bind_parameters',\n",
       " 'cast',\n",
       " 'cbit_argument_conversion',\n",
       " 'ccx',\n",
       " 'ch',\n",
       " 'clbits',\n",
       " 'cls_instances',\n",
       " 'cls_prefix',\n",
       " 'cnot',\n",
       " 'combine',\n",
       " 'compose',\n",
       " 'copy',\n",
       " 'count_ops',\n",
       " 'cregs',\n",
       " 'crx',\n",
       " 'cry',\n",
       " 'crz',\n",
       " 'cswap',\n",
       " 'cu1',\n",
       " 'cu3',\n",
       " 'cx',\n",
       " 'cy',\n",
       " 'cz',\n",
       " 'data',\n",
       " 'dcx',\n",
       " 'decompose',\n",
       " 'depth',\n",
       " 'diag_gate',\n",
       " 'diagonal',\n",
       " 'draw',\n",
       " 'extend',\n",
       " 'extension_lib',\n",
       " 'fredkin',\n",
       " 'from_qasm_file',\n",
       " 'from_qasm_str',\n",
       " 'h',\n",
       " 'hamiltonian',\n",
       " 'has_register',\n",
       " 'header',\n",
       " 'i',\n",
       " 'id',\n",
       " 'iden',\n",
       " 'initialize',\n",
       " 'instances',\n",
       " 'inverse',\n",
       " 'iso',\n",
       " 'isometry',\n",
       " 'iswap',\n",
       " 'mcmt',\n",
       " 'mcrx',\n",
       " 'mcry',\n",
       " 'mcrz',\n",
       " 'mct',\n",
       " 'mcu1',\n",
       " 'mcx',\n",
       " 'measure',\n",
       " 'measure_active',\n",
       " 'measure_all',\n",
       " 'mirror',\n",
       " 'ms',\n",
       " 'n_qubits',\n",
       " 'name',\n",
       " 'num_clbits',\n",
       " 'num_connected_components',\n",
       " 'num_nonlocal_gates',\n",
       " 'num_parameters',\n",
       " 'num_qubits',\n",
       " 'num_tensor_factors',\n",
       " 'num_unitary_factors',\n",
       " 'parameters',\n",
       " 'prefix',\n",
       " 'qasm',\n",
       " 'qbit_argument_conversion',\n",
       " 'qregs',\n",
       " 'qubits',\n",
       " 'r',\n",
       " 'rcccx',\n",
       " 'rccx',\n",
       " 'remove_final_measurements',\n",
       " 'reset',\n",
       " 'rx',\n",
       " 'rxx',\n",
       " 'ry',\n",
       " 'ryy',\n",
       " 'rz',\n",
       " 'rzx',\n",
       " 'rzz',\n",
       " 's',\n",
       " 'sdg',\n",
       " 'size',\n",
       " 'snapshot',\n",
       " 'squ',\n",
       " 'swap',\n",
       " 't',\n",
       " 'tdg',\n",
       " 'to_gate',\n",
       " 'to_instruction',\n",
       " 'toffoli',\n",
       " 'u1',\n",
       " 'u2',\n",
       " 'u3',\n",
       " 'uc',\n",
       " 'ucg',\n",
       " 'ucrx',\n",
       " 'ucry',\n",
       " 'ucrz',\n",
       " 'ucx',\n",
       " 'ucy',\n",
       " 'ucz',\n",
       " 'unitary',\n",
       " 'width',\n",
       " 'x',\n",
       " 'y',\n",
       " 'z']"
      ]
     },
     "execution_count": 112,
     "metadata": {},
     "output_type": "execute_result"
    }
   ],
   "source": [
    "dir(circuit)"
   ]
  },
  {
   "cell_type": "code",
   "execution_count": 119,
   "metadata": {},
   "outputs": [
    {
     "data": {
      "text/plain": [
       "array([1.+0.j, 0.+0.j])"
      ]
     },
     "execution_count": 119,
     "metadata": {},
     "output_type": "execute_result"
    }
   ],
   "source": [
    "c = QuantumCircuit(1)\n",
    "temp = np.pi/2\n",
    "# c.u3(temp, -temp, -3*temp, 0)\n",
    "c.u2(-temp, temp, 0)\n",
    "# c.draw()\n",
    "simulator = Aer.get_backend('statevector_simulator')\n",
    "job = execute(c, simulator)\n",
    "result = job.result()\n",
    "outputstate = result.get_statevector(c, decimals=3)\n",
    "outputstate"
   ]
  },
  {
   "cell_type": "code",
   "execution_count": 120,
   "metadata": {},
   "outputs": [
    {
     "data": {
      "text/plain": [
       "<qiskit.circuit.gate.Gate at 0x7f1a01d99460>"
      ]
     },
     "execution_count": 120,
     "metadata": {},
     "output_type": "execute_result"
    }
   ],
   "source": [
    "c = QuantumCircuit(1, name=\"Sqrt_X\")\n",
    "c.u2(-np.pi/2, np.pi/2, 0)\n",
    "sqrt_x = c.to_gate()\n",
    "sqrt_x"
   ]
  },
  {
   "cell_type": "code",
   "execution_count": 134,
   "metadata": {},
   "outputs": [
    {
     "data": {
      "text/plain": [
       "array([1.+0.j, 0.+0.j])"
      ]
     },
     "execution_count": 134,
     "metadata": {},
     "output_type": "execute_result"
    }
   ],
   "source": [
    "c2 = QuantumCircuit(1)\n",
    "c2.append(sqrt_x, [0])\n",
    "c2.append(sqrt_x, [0])\n",
    "c2.append(sqrt_x, [0])\n",
    "c2.append(sqrt_x, [0])\n",
    "# c2.x(0)\n",
    "c2.draw()\n",
    "\n",
    "simulator = Aer.get_backend('statevector_simulator')\n",
    "job = execute(c2, simulator)\n",
    "result = job.result()\n",
    "outputstate = result.get_statevector(c2, decimals=3)\n",
    "outputstate"
   ]
  },
  {
   "cell_type": "code",
   "execution_count": 25,
   "metadata": {},
   "outputs": [],
   "source": [
    "# There is an option to create a gate out of a circuit.\n",
    "# In the following case it is not necessary, though I used it for educational purposes.\n",
    "\n",
    "# Let us create a Sqrt_X gate\n",
    "def create_sqrt_x():\n",
    "    c = QuantumCircuit(1, name=\"Sqrt_X\") # this gate operates on 1 qbit\n",
    "    # apply the relevant logic.\n",
    "    c.u2( # more about u2 later.\n",
    "        phi=-np.pi/2,\n",
    "        lam=np.pi/2,\n",
    "        qubit=0\n",
    "    )\n",
    "    # save this circuit as a gate\n",
    "    return c.to_gate()\n",
    "\n",
    "sqrt_x = create_sqrt_x()\n",
    "\n",
    "# About u2.\n",
    "# There are 3 u-gates. u1, u2, u3.\n",
    "# Their implementation can be found at:\n",
    "# https://github.com/Qiskit/qiskit-terra/tree/master/qiskit/circuit/library/standard_gates\n",
    "# Further details can be found here:\n",
    "# https://quantum-computing.ibm.com/docs/iqx/q-gates#u2-gate\n",
    "# https://qiskit.org/documentation/stubs/qiskit.circuit.library.U2Gate.html\n",
    "#\n",
    "# Their example tells us that: U2(-\\pi/2, \\pi/2) = RX(\\pi/2)\n",
    "# This would translate to:\n",
    "# RZ(-pi/2).RY(pi/2).RZ(pi/2)\n",
    "# In other words, it would \n",
    "\n",
    "# using sqrt_x\n",
    "def create_circuit():\n",
    "    c = QuantumCircuit(1)\n",
    "    # append our gate, with a list of qbits to operate on.\n",
    "    # the length of the list has to equal sqrt_x.num_qubits.\n",
    "    c.append(sqrt_x, [0])\n",
    "    c.draw()\n",
    "    return c\n",
    "\n",
    "def get_result(circuit):\n",
    "    simulator = Aer.get_backend('statevector_simulator')\n",
    "    job = execute(circuit, simulator)\n",
    "    result = job.result()\n",
    "    outputstate = result.get_statevector(circuit, decimals=3)\n",
    "    return outputstate"
   ]
  },
  {
   "cell_type": "code",
   "execution_count": 133,
   "metadata": {},
   "outputs": [],
   "source": [
    "c.u2?\n"
   ]
  },
  {
   "cell_type": "code",
   "execution_count": 30,
   "metadata": {},
   "outputs": [
    {
     "data": {
      "text/plain": [
       "<qiskit.circuit.controlledgate.ControlledGate at 0x7fa182e19a30>"
      ]
     },
     "execution_count": 30,
     "metadata": {},
     "output_type": "execute_result"
    }
   ],
   "source": [
    "sqrt_x.inverse().control()"
   ]
  },
  {
   "cell_type": "code",
   "execution_count": null,
   "metadata": {},
   "outputs": [],
   "source": []
  }
 ],
 "metadata": {
  "kernelspec": {
   "display_name": "Python 3",
   "language": "python",
   "name": "python3"
  },
  "language_info": {
   "codemirror_mode": {
    "name": "ipython",
    "version": 3
   },
   "file_extension": ".py",
   "mimetype": "text/x-python",
   "name": "python",
   "nbconvert_exporter": "python",
   "pygments_lexer": "ipython3",
   "version": "3.8.1"
  }
 },
 "nbformat": 4,
 "nbformat_minor": 4
}
