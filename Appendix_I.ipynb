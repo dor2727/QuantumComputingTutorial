{
 "cells": [
  {
   "cell_type": "code",
   "execution_count": 3,
   "metadata": {},
   "outputs": [
    {
     "name": "stdout",
     "output_type": "stream",
     "text": [
      "3.8.1 (tags/v3.8.1:1b293b6006, Jan  6 2020, 11:40:25) \n",
      "[GCC 9.2.1 20191008]\n"
     ]
    }
   ],
   "source": [
    "import sys\n",
    "print(sys.version)\n",
    "\n",
    "import numpy as np\n",
    "import matplotlib.pyplot as plt\n",
    "%matplotlib inline\n",
    "\n",
    "from qiskit import(\n",
    "  QuantumCircuit,\n",
    "  QuantumRegister, ClassicalRegister,\n",
    "  execute,\n",
    "  Aer)\n",
    "from qiskit.visualization import plot_histogram\n",
    "from qiskit.circuit import Gate"
   ]
  },
  {
   "cell_type": "code",
   "execution_count": 4,
   "metadata": {},
   "outputs": [
    {
     "data": {
      "text/html": [
       "<pre style=\"word-wrap: normal;white-space: pre;background: #fff0;line-height: 1.1;font-family: &quot;Courier New&quot;,Courier,monospace\">          \n",
       "q_0: ──■──\n",
       "       │  \n",
       "q_1: ──■──\n",
       "     ┌─┴─┐\n",
       "q_2: ┤ X ├\n",
       "     └───┘</pre>"
      ],
      "text/plain": [
       "          \n",
       "q_0: ──■──\n",
       "       │  \n",
       "q_1: ──■──\n",
       "     ┌─┴─┐\n",
       "q_2: ┤ X ├\n",
       "     └───┘"
      ]
     },
     "execution_count": 4,
     "metadata": {},
     "output_type": "execute_result"
    }
   ],
   "source": [
    "# example of a ccx/toffoli gate\n",
    "\n",
    "amount_of_qbits = 3\n",
    "\n",
    "# build the main circuit\n",
    "circuit = QuantumCircuit(amount_of_qbits)\n",
    "\n",
    "# circuit.toffoli(2,1,0)\n",
    "circuit.ccx(0,1,2)\n",
    "\n",
    "# Draw the circuit\n",
    "# circuit.draw(output=\"mpl\")\n",
    "circuit.draw(output=\"text\")"
   ]
  },
  {
   "cell_type": "code",
   "execution_count": 5,
   "metadata": {},
   "outputs": [
    {
     "data": {
      "image/png": "[encoded data removed]",
      "text/plain": [
       "<Figure size 261.177x204.68 with 1 Axes>"
      ]
     },
     "execution_count": 5,
     "metadata": {},
     "output_type": "execute_result"
    }
   ],
   "source": [
    "# example of 2 cnot gates\n",
    "\n",
    "amount_of_qbits = 3\n",
    "\n",
    "# build the main circuit\n",
    "circuit = QuantumCircuit(amount_of_qbits)\n",
    "\n",
    "circuit.cx(1,2)\n",
    "circuit.cx(0,2)\n",
    "\n",
    "# Draw the circuit\n",
    "circuit.draw(output=\"mpl\")\n",
    "# circuit.draw(output=\"text\")"
   ]
  },
  {
   "cell_type": "code",
   "execution_count": 6,
   "metadata": {},
   "outputs": [],
   "source": [
    "# There is an option to create a gate out of a circuit.\n",
    "# In the following case it is not necessary, though I used it for educational purposes.\n",
    "\n",
    "# Let us create a Sqrt_X gate\n",
    "def create_sqrt_x():\n",
    "    c = QuantumCircuit(1, name=\"Sqrt_X\") # this gate operates on 1 qbit\n",
    "    # apply the relevant logic.\n",
    "    c.u2( # more about u2 later.\n",
    "        phi=-np.pi/2,\n",
    "        lam=np.pi/2,\n",
    "        qubit=0\n",
    "    )\n",
    "    # save this circuit as a gate\n",
    "    return c.to_gate()\n",
    "\n",
    "sqrt_x = create_sqrt_x()\n",
    "\n",
    "# About u2.\n",
    "# There are 3 u-gates. u1, u2, u3.\n",
    "# Their implementation can be found at:\n",
    "# https://github.com/Qiskit/qiskit-terra/tree/master/qiskit/circuit/library/standard_gates\n",
    "# Further details can be found here:\n",
    "# https://quantum-computing.ibm.com/docs/iqx/q-gates#u2-gate\n",
    "# https://qiskit.org/documentation/stubs/qiskit.circuit.library.U2Gate.html\n",
    "#\n",
    "# Their example tells us that: U2(-\\pi/2, \\pi/2) = RX(\\pi/2)\n",
    "# This would translate to:\n",
    "# RZ(-pi/2).RY(pi/2).RZ(pi/2)\n",
    "# In other words, it would \n",
    "\n",
    "# example: using sqrt_x\n",
    "def create_circuit():\n",
    "    c = QuantumCircuit(1)\n",
    "    # append our gate, with a list of qbits to operate on.\n",
    "    # the length of the list has to equal sqrt_x.num_qubits.\n",
    "    c.append(sqrt_x, [0])\n",
    "    c.draw()\n",
    "    return c\n",
    "\n",
    "# creating the inverse of sqrt_x:\n",
    "#sqrt_x.inverse()\n",
    "# creating a controlled-sqrt_x:\n",
    "#sqrt_x.control()\n",
    "# creating a controlled-inverse-sqrt_x:\n",
    "#sqrt_x.inverse().control()"
   ]
  },
  {
   "cell_type": "code",
   "execution_count": 7,
   "metadata": {},
   "outputs": [
    {
     "name": "stdout",
     "output_type": "stream",
     "text": [
      "input : 000\n",
      "output: 000 & 001\n"
     ]
    },
    {
     "data": {
      "image/png": "[encoded data removed]",
      "text/plain": [
       "<Figure size 622.377x204.68 with 1 Axes>"
      ]
     },
     "execution_count": 7,
     "metadata": {},
     "output_type": "execute_result"
    }
   ],
   "source": [
    "# helper functions\n",
    "def outputstate_to_bin(outputstate):\n",
    "    # get amount of bits\n",
    "    l = np.log2(len(outputstate))\n",
    "    # find every index where there is a non-zero probability\n",
    "    #indexes = np.where(res != 0)[0]\n",
    "    indexes = np.where(outputstate)[0]\n",
    "    # convert it to bin\n",
    "    s = [bin(i)[2:] for i in indexes]\n",
    "    # pad with zeros\n",
    "    s = [\n",
    "        '0'*int(l-len(i)) + i\n",
    "        for i in s\n",
    "    ]\n",
    "    # move lowest bit to the right\n",
    "    s = [i[::-1] for i in s]\n",
    "    # return all the results\n",
    "    return ' & '.join(s)\n",
    "\n",
    "def get_results(circuit):\n",
    "    simulator = Aer.get_backend('statevector_simulator')\n",
    "    job = execute(circuit, simulator)\n",
    "    result = job.result()\n",
    "    outputstate = result.get_statevector(circuit, decimals=3)\n",
    "    return outputstate_to_bin(outputstate)\n",
    "\n",
    "def print_toffoli_circuit(i2=0, i1=0, i0=0, sqrt=False):\n",
    "    amount_of_qbits = 3\n",
    "    circuit = QuantumCircuit(amount_of_qbits)\n",
    "    \n",
    "    if i0:\n",
    "        circuit.x(0)\n",
    "    if i1:\n",
    "        circuit.x(1)\n",
    "    if i2:\n",
    "        circuit.x(2)\n",
    "\n",
    "    if sqrt:\n",
    "        circuit.append(sqrt_x.control(), [1,2])\n",
    "        circuit.cx(0,1)\n",
    "        circuit.append(sqrt_x.inverse().control(), [1,2])\n",
    "        circuit.cx(0,1)\n",
    "        circuit.append(sqrt_x.control(), [0,2])\n",
    "    else:\n",
    "        circuit.cx(1,2)\n",
    "        circuit.cx(0,1)\n",
    "        circuit.cx(1,2)\n",
    "        circuit.cx(0,1)\n",
    "        circuit.cx(0,2)\n",
    "    \n",
    "    print(f\"input : {i0}{i1}{i2}\")\n",
    "    print(f\"output: {get_results(circuit)}\")\n",
    "    return circuit.draw(output=\"mpl\")\n",
    "\n",
    "\n",
    "# for i0 in (0,1):\n",
    "#     for i1 in (0,1):\n",
    "#         for i2 in (0,1):\n",
    "#             create_toffoli_gate(i2, i1, i0, False)\n",
    "create_toffoli_gate(0,0,0, True)"
   ]
  },
  {
   "cell_type": "code",
   "execution_count": 40,
   "metadata": {},
   "outputs": [],
   "source": [
    "def create_toffoli_gate(gate, control_0=0, control_1=1, target=2):\n",
    "    circuit = QuantumCircuit(\n",
    "        amount_of_qbits,\n",
    "        name=\"Toffoli^{%s}_{(%s,%s),%s}\" % (gate.name, control_0, control_1, target)\n",
    "    )\n",
    "    sqrt_gate = gate.power(0.5)\n",
    "    \n",
    "    circuit.append(sqrt_gate.control(), [control_1,target])\n",
    "    circuit.cx(control_0,control_1)\n",
    "    circuit.append(sqrt_gate.inverse().control(), [control_1,target])\n",
    "    circuit.cx(control_0,control_1)\n",
    "    circuit.append(sqrt_gate.control(), [control_0,target])\n",
    "\n",
    "    return circuit.to_gate()"
   ]
  },
  {
   "cell_type": "code",
   "execution_count": 41,
   "metadata": {},
   "outputs": [
    {
     "data": {
      "image/png": "[encoded data removed]",
      "text/plain": [
       "<Figure size 762.39x264.88 with 1 Axes>"
      ]
     },
     "execution_count": 41,
     "metadata": {},
     "output_type": "execute_result"
    }
   ],
   "source": [
    "# C^3\n",
    "zero = QuantumRegister(2, \"q_0,\")\n",
    "one  = QuantumRegister(1, \"q_1,\")\n",
    "two  = QuantumRegister(1, \"q_2,\")\n",
    "circuit = QuantumCircuit(zero, one, two)\n",
    "\n",
    "# 1 is the control, so it stays the same\n",
    "circuit.append(sqrt_x.control(), [one,two])\n",
    "# now zero is the control, so we'll make it a control-control\n",
    "circuit.ccx(zero[0],zero[1],one)\n",
    "# 1 is the control, so it stays the same\n",
    "circuit.append(sqrt_x.inverse().control(), [one,two])\n",
    "# now zero is the control, so we'll make it a control-control\n",
    "circuit.ccx(zero[0],zero[1],one)\n",
    "# now zero is the control, so we'll make it a toffoli gate (since its controlling sqrt_x)\n",
    "# circuit.append(sqrt_x.control(), [0,2])\n",
    "circuit.append(create_toffoli_gate(sqrt_x), [0,1,3])\n",
    "\n",
    "circuit.draw(output=\"mpl\")"
   ]
  },
  {
   "cell_type": "code",
   "execution_count": null,
   "metadata": {},
   "outputs": [],
   "source": []
  }
 ],
 "metadata": {
  "kernelspec": {
   "display_name": "Python 3",
   "language": "python",
   "name": "python3"
  },
  "language_info": {
   "codemirror_mode": {
    "name": "ipython",
    "version": 3
   },
   "file_extension": ".py",
   "mimetype": "text/x-python",
   "name": "python",
   "nbconvert_exporter": "python",
   "pygments_lexer": "ipython3",
   "version": "3.8.1"
  }
 },
 "nbformat": 4,
 "nbformat_minor": 4
}
